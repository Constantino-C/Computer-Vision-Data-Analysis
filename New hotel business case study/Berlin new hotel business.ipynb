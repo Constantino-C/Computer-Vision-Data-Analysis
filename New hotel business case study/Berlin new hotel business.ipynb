{
 "cells": [
  {
   "cell_type": "markdown",
   "metadata": {},
   "source": [
    "# Business Case: Identify the optimum location for a new hotel business\n",
    "\n",
    "###### _Note: Folium maps do not appear on GitHub. To visualise the results please refer to the pictures in the folder of this project_"
   ]
  },
  {
   "cell_type": "markdown",
   "metadata": {},
   "source": [
    "#### _Description of problem:_\n",
    "An investor is looking to open a new hotel in Berlin. To be succesful with his new business he employs data science to identify the optimum    location to open up his new business. \n",
    "The investor's main concern is that he needs the area to open up his new business to be well facilitated with restaurants/cafes/shops and well connected with transport. "
   ]
  },
  {
   "cell_type": "markdown",
   "metadata": {},
   "source": [
    "#### _Description of data to be used in this analysis:_\n",
    "To be able to visualise the optimum location for the new hotel business the Foursquare database and API will be employed. \n",
    "From the available data the existing successful hotel business will be retrieved. Factors that will determine the success of a hotel business based on the Foursquare data can be:  \n",
    "\n",
    " - The hotel/accommodation business is in the recommended list retrieved from the API _(it is very likely to be doing well as a business)_\n",
    " - The number of recommended venues near the hotel/accommodation business. Say within a radius of 500m\n",
    " - The venue is in an area where is well served by public transport. Let's estimate within 200m radius to have public transport services. \n",
    " - The hotel/accommodation is located in an area with high population (based on the dataset)\n",
    "\n",
    "**Considering the above points, the new hotel will be placed in an area where there is not enough competition. This means the target area will meet all the above points and will also have the lowest number of hotel/ accommodation businesses.**\n",
    "\n",
    "Once the hotel/accomodation businesses which meet the above criteria are identified, they will be stored in a dataframe and then clustered with Kmeans. The venues will then be mapped via folium to visualise where these points of interest are located. \n",
    "\n",
    "Looking at Berlin, each borough is divided in localities based on the data provided by wikipedia: https://en.wikipedia.org/wiki/Boroughs_and_neighborhoods_of_Berlin#Administration\n",
    "\n",
    "Data Wrangling it is used to obtain a dataframe with the boroughs and localities in each borough together with the coordinates for each locality.\n",
    "The coordinates will be use to explore each locality.\n",
    "\n",
    "#### Limitations: \n",
    "Due to the free subscrition with FourSquare it is not feasible to retrieve more meaningful data e.g venue details, venue ratings. These details would be very useful in increasing the accuracy of the successful businesses detected. This is therefore recommended for future work.\n",
    "\n",
    "Also due to subscription limitation it is not feasible to explore all the range of the localities; therefore the 10 most populated localities have been selected.\n",
    "\n"
   ]
  },
  {
   "cell_type": "markdown",
   "metadata": {},
   "source": [
    "###### Table of contents:\n",
    "\n",
    "* [1. Retrieve data, web scraping](#getdata)\n",
    "* [2. Explore the Foursquare data via the API](#Fsquare)\n",
    "* [3. Get the scores for each venue](#scores)\n",
    "* [4. Results](#results)\n",
    "* [5. Conclusion and future work](#conclusion)"
   ]
  },
  {
   "cell_type": "markdown",
   "metadata": {},
   "source": [
    " "
   ]
  },
  {
   "cell_type": "markdown",
   "metadata": {},
   "source": [
    " "
   ]
  },
  {
   "cell_type": "markdown",
   "metadata": {},
   "source": [
    " \n",
    " "
   ]
  },
  {
   "cell_type": "markdown",
   "metadata": {},
   "source": [
    " "
   ]
  },
  {
   "cell_type": "markdown",
   "metadata": {},
   "source": [
    " "
   ]
  },
  {
   "cell_type": "markdown",
   "metadata": {},
   "source": [
    " "
   ]
  },
  {
   "cell_type": "markdown",
   "metadata": {},
   "source": [
    " "
   ]
  },
  {
   "cell_type": "markdown",
   "metadata": {},
   "source": [
    " "
   ]
  },
  {
   "cell_type": "markdown",
   "metadata": {},
   "source": [
    "# 1. Retrieve data, web scraping <a name=\"getdata\"></a>\n",
    "\n",
    "Berlin boroughs-localities source: https://en.wikipedia.org/wiki/Boroughs_and_neighborhoods_of_Berlin#Administration \n",
    "\n",
    "\n"
   ]
  },
  {
   "cell_type": "code",
   "execution_count": 1,
   "metadata": {},
   "outputs": [],
   "source": [
    "import pandas as pd\n",
    "import numpy as np\n",
    "from bs4 import BeautifulSoup\n",
    "import requests\n",
    "import geocoder\n",
    "from sklearn.cluster import KMeans\n",
    "import folium \n",
    "import matplotlib.cm as cm\n",
    "import matplotlib.colors as colors\n",
    "import Square\n"
   ]
  },
  {
   "cell_type": "code",
   "execution_count": 3,
   "metadata": {},
   "outputs": [],
   "source": [
    "url = r\"https://en.wikipedia.org/wiki/Boroughs_and_neighborhoods_of_Berlin#Administration\"\n",
    "r= requests.get(url)\n",
    "# soup = BeautifulSoup(r.text, 'html.parser')\n",
    "source_t=pd.read_html(r.text) #This code finds the table automatically use a[0] for the table"
   ]
  },
  {
   "cell_type": "markdown",
   "metadata": {},
   "source": [
    "### 1.1 Prepare the table to hold the boroughs and localities "
   ]
  },
  {
   "cell_type": "code",
   "execution_count": 4,
   "metadata": {},
   "outputs": [],
   "source": [
    "boroughs = [\"Mitte\", \"Friedrichshain-Kreuzberg\", \"Pankow\", \"Charlottenburg-Wilmersdorf\", \"Spandau\", \"Steglitz-Zehlendorf\", \"Tempelhof-Schöneberg\",\n",
    "           \"Neukölln\", \"Treptow-Köpenick\", \"Marzahn-Hellersdorf\", \"Lichtenberg\", \"Reinickendorf\"] \n",
    "    \n",
    "localities = pd.concat([source_t[i] for i in range(2,14)], ignore_index=True)\n",
    "boroughs_locality = []\n",
    "for i in range(2,14):\n",
    "    for locality in source_t[i][\"Locality\"].values: \n",
    "        boroughs_locality.append(boroughs[i-2])\n",
    "\n",
    "localities.insert(0,\"Boroughs\",boroughs_locality)\n",
    "localities[\"Locality\"] = localities[\"Locality\"].apply(lambda x: x[7:])\n",
    "localities.rename(columns={\"{}\".format(localities.columns[2]) : \"Locality Area in km\\u00b2\"}, inplace=True)\n",
    "localities.rename(columns={\"{}\".format(localities.columns[3]) : \"Locality population\"}, inplace=True)\n",
    "localities.rename(columns={\"{}\".format(localities.columns[4]) : \"Locality population density in km\\u00b2\"}, inplace=True)\n",
    "localities.drop(columns = \"Map\", axis =1, inplace=True)\n",
    "\n"
   ]
  },
  {
   "cell_type": "code",
   "execution_count": null,
   "metadata": {},
   "outputs": [],
   "source": []
  },
  {
   "cell_type": "markdown",
   "metadata": {},
   "source": [
    "### 1.2 Search and find the geo coordinates for each locality"
   ]
  },
  {
   "cell_type": "code",
   "execution_count": 5,
   "metadata": {},
   "outputs": [],
   "source": [
    "#this function takes about 1 min\n",
    "\n",
    "from geopy.geocoders import Nominatim\n",
    "\n",
    "coods=[]\n",
    "for B,L in zip(localities.Boroughs, localities.Locality):\n",
    "    address = \"Berlin, \" + B +\", \" + L\n",
    "    geolocator = Nominatim(user_agent=\"Berlin_explore\")\n",
    "    location = geolocator.geocode(address)\n",
    "    coods.append((location.latitude,location.longitude) )\n",
    "localities[\"Coordinates(Lat, Lon)\"] = coods\n",
    "\n",
    "\n"
   ]
  },
  {
   "cell_type": "markdown",
   "metadata": {},
   "source": [
    "Narrow the localities dataframe to 10 localities with the highest population (due to Foursquare subscription limitations)"
   ]
  },
  {
   "cell_type": "code",
   "execution_count": 6,
   "metadata": {},
   "outputs": [],
   "source": [
    "localities.sort_values(by = \"Locality population\", ascending=False, inplace=True)\n",
    "localities.reset_index(drop=True, inplace=True)\n",
    "localities_table = localities.head(10)"
   ]
  },
  {
   "cell_type": "code",
   "execution_count": null,
   "metadata": {},
   "outputs": [],
   "source": []
  },
  {
   "cell_type": "markdown",
   "metadata": {},
   "source": [
    "# 2. Explore the Foursquare data via the API <a name=\"Fsquare\"></a>"
   ]
  },
  {
   "cell_type": "markdown",
   "metadata": {},
   "source": [
    "### 2.1 Get the list of the the recommended hotel/accommodation businesses for each locality"
   ]
  },
  {
   "cell_type": "code",
   "execution_count": 7,
   "metadata": {},
   "outputs": [],
   "source": [
    "# these are the credentials for the foursquare API\n",
    "CLIENT_ID = Square.CLIENT_ID\n",
    "CLIENT_SECRET = Square.CLIENT_SECRET \n",
    "TOKEN = Square.TOKEN\n",
    "VERSION = \"20201128\"\n",
    "LIMIT=100\n",
    "radius = 500\n",
    "\n",
    "API_counter=0 #variable to monitor how many times the API is called\n"
   ]
  },
  {
   "cell_type": "code",
   "execution_count": 15,
   "metadata": {},
   "outputs": [],
   "source": [
    "def find_venues(localities_table):\n",
    "    recommended=[]\n",
    "    for (lat,lon), Locality in zip(localities_table.iloc[:,-1],localities_table.iloc[:,1] ) :\n",
    "        url = 'https://api.foursquare.com/v2/venues/explore?&client_id={}&client_secret={}&v={}&ll={},{}&radius={}&limit={}'.format(\n",
    "                    CLIENT_ID, \n",
    "                    CLIENT_SECRET, \n",
    "                    VERSION, \n",
    "                    lat, \n",
    "                    lon, \n",
    "                    radius, \n",
    "                    LIMIT)\n",
    "        results = requests.get(url).json()[\"response\"]['groups'][0]['items']\n",
    "        global API_counter\n",
    "        API_counter+=1\n",
    "\n",
    "        for entry in results:\n",
    "            recommended.append((Locality,\n",
    "                                entry[\"venue\"][\"name\"],\n",
    "                                entry[\"venue\"][\"categories\"][0][\"name\"],\n",
    "                                entry[\"venue\"][\"location\"][\"lat\"],\n",
    "                                entry[\"venue\"][\"location\"][\"lng\"],\n",
    "                                      ))  \n",
    "    venues = pd.DataFrame(recommended, columns=[\"Locality\", \"Venue_name\", \"Category\", \"Latitude\", \"Longitude\"])\n",
    "    return (venues, API_counter)\n",
    "    \n",
    "    \n",
    "    "
   ]
  },
  {
   "cell_type": "code",
   "execution_count": 16,
   "metadata": {},
   "outputs": [],
   "source": [
    "Recom_venues, API = find_venues(localities_table)"
   ]
  },
  {
   "cell_type": "code",
   "execution_count": null,
   "metadata": {},
   "outputs": [],
   "source": []
  },
  {
   "cell_type": "markdown",
   "metadata": {},
   "source": [
    "### 2.2 Filter the recommended venues for the hotel/accommodation businesses only"
   ]
  },
  {
   "cell_type": "code",
   "execution_count": 10,
   "metadata": {},
   "outputs": [],
   "source": [
    "list_of_hotels = [\"Hotel\", \"Bed & Breakfast\", \"Boarding House\", \"Hostel\", \"Inn\", \"Motel\", \"Resort\", \"Vacation Rental\"]"
   ]
  },
  {
   "cell_type": "code",
   "execution_count": 11,
   "metadata": {},
   "outputs": [],
   "source": [
    "Hotel_venues = Recom_venues[Recom_venues[\"Category\"].isin(list_of_hotels)]\n",
    "Hotel_venues.reset_index(drop=True, inplace=True)"
   ]
  },
  {
   "cell_type": "markdown",
   "metadata": {},
   "source": [
    "It seems that there are 13 recommended hotel/accommodation businesses in Berlin.\n",
    "Let's see on the map where are these businesses located.\n"
   ]
  },
  {
   "cell_type": "code",
   "execution_count": 12,
   "metadata": {},
   "outputs": [
    {
     "data": {
      "text/html": [
       "<div style=\"width:100%;\"><div style=\"position:relative;width:100%;height:0;padding-bottom:60%;\"><span style=\"color:#565656\">Make this Notebook Trusted to load map: File -> Trust Notebook</span><iframe src=\"about:blank\" style=\"position:absolute;width:100%;height:100%;left:0;top:0;border:none !important;\" data-html=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 onload=\"this.contentDocument.open();this.contentDocument.write(atob(this.getAttribute('data-html')));this.contentDocument.close();\" allowfullscreen webkitallowfullscreen mozallowfullscreen></iframe></div></div>"
      ],
      "text/plain": [
       "<folium.folium.Map at 0x13ad8404188>"
      ]
     },
     "execution_count": 12,
     "metadata": {},
     "output_type": "execute_result"
    }
   ],
   "source": [
    "Berlin_map = folium.Map(width=700, height=400,location=[52.5200, 13.4050], zoom_start=11)\n",
    "\n",
    "for lat, lon,cat, vn in zip(Hotel_venues['Latitude'], Hotel_venues['Longitude'],Hotel_venues[\"Category\"], Hotel_venues['Venue_name']):\n",
    "    label = folium.Popup(cat + \"\\n\" +vn, parse_html=True)\n",
    "    folium.CircleMarker(\n",
    "        [lat, lon],\n",
    "        radius=5,\n",
    "        popup=label,\n",
    "        color= \"#7F00FF\",\n",
    "        fill=True,\n",
    "        fill_color= \"#7F00FF\",\n",
    "        fill_opacity=0.7).add_to(Berlin_map)\n",
    "\n",
    "Berlin_map"
   ]
  },
  {
   "cell_type": "code",
   "execution_count": null,
   "metadata": {},
   "outputs": [],
   "source": []
  },
  {
   "cell_type": "code",
   "execution_count": null,
   "metadata": {},
   "outputs": [],
   "source": []
  },
  {
   "cell_type": "code",
   "execution_count": 13,
   "metadata": {},
   "outputs": [
    {
     "data": {
      "text/html": [
       "<div>\n",
       "<style scoped>\n",
       "    .dataframe tbody tr th:only-of-type {\n",
       "        vertical-align: middle;\n",
       "    }\n",
       "\n",
       "    .dataframe tbody tr th {\n",
       "        vertical-align: top;\n",
       "    }\n",
       "\n",
       "    .dataframe thead th {\n",
       "        text-align: right;\n",
       "    }\n",
       "</style>\n",
       "<table border=\"1\" class=\"dataframe\">\n",
       "  <thead>\n",
       "    <tr style=\"text-align: right;\">\n",
       "      <th></th>\n",
       "      <th>Locality</th>\n",
       "      <th>Venue_name</th>\n",
       "      <th>Category</th>\n",
       "      <th>Latitude</th>\n",
       "      <th>Longitude</th>\n",
       "    </tr>\n",
       "  </thead>\n",
       "  <tbody>\n",
       "    <tr>\n",
       "      <th>0</th>\n",
       "      <td>Charlottenburg</td>\n",
       "      <td>Leonardo Hotel Berlin</td>\n",
       "      <td>Hotel</td>\n",
       "      <td>52.512792</td>\n",
       "      <td>13.304764</td>\n",
       "    </tr>\n",
       "    <tr>\n",
       "      <th>1</th>\n",
       "      <td>Charlottenburg</td>\n",
       "      <td>Smart Stay</td>\n",
       "      <td>Hostel</td>\n",
       "      <td>52.513457</td>\n",
       "      <td>13.305024</td>\n",
       "    </tr>\n",
       "    <tr>\n",
       "      <th>2</th>\n",
       "      <td>Charlottenburg</td>\n",
       "      <td>Ibis Styles Berlin an der Oper</td>\n",
       "      <td>Hotel</td>\n",
       "      <td>52.511680</td>\n",
       "      <td>13.312215</td>\n",
       "    </tr>\n",
       "    <tr>\n",
       "      <th>3</th>\n",
       "      <td>Friedrichshain</td>\n",
       "      <td>Sunflower Hostel</td>\n",
       "      <td>Hostel</td>\n",
       "      <td>52.509634</td>\n",
       "      <td>13.446249</td>\n",
       "    </tr>\n",
       "    <tr>\n",
       "      <th>4</th>\n",
       "      <td>Friedrichshain</td>\n",
       "      <td>Kiez Hostel Berlin</td>\n",
       "      <td>Hostel</td>\n",
       "      <td>52.509850</td>\n",
       "      <td>13.447432</td>\n",
       "    </tr>\n",
       "    <tr>\n",
       "      <th>5</th>\n",
       "      <td>Wilmersdorf</td>\n",
       "      <td>Hotel-Pension Gasteiner Hof</td>\n",
       "      <td>Hotel</td>\n",
       "      <td>52.487317</td>\n",
       "      <td>13.323413</td>\n",
       "    </tr>\n",
       "    <tr>\n",
       "      <th>6</th>\n",
       "      <td>Wilmersdorf</td>\n",
       "      <td>Ibis Berlin City West</td>\n",
       "      <td>Hotel</td>\n",
       "      <td>52.489119</td>\n",
       "      <td>13.316607</td>\n",
       "    </tr>\n",
       "    <tr>\n",
       "      <th>7</th>\n",
       "      <td>Gesundbrunnen</td>\n",
       "      <td>MOXY Berlin Humboldthain Park</td>\n",
       "      <td>Hotel</td>\n",
       "      <td>52.549568</td>\n",
       "      <td>13.384071</td>\n",
       "    </tr>\n",
       "    <tr>\n",
       "      <th>8</th>\n",
       "      <td>Gesundbrunnen</td>\n",
       "      <td>Hostelo Berlin</td>\n",
       "      <td>Hostel</td>\n",
       "      <td>52.550452</td>\n",
       "      <td>13.391515</td>\n",
       "    </tr>\n",
       "    <tr>\n",
       "      <th>9</th>\n",
       "      <td>Gesundbrunnen</td>\n",
       "      <td>Apartment &amp; Hotel Ocak</td>\n",
       "      <td>Hotel</td>\n",
       "      <td>52.550891</td>\n",
       "      <td>13.391649</td>\n",
       "    </tr>\n",
       "    <tr>\n",
       "      <th>10</th>\n",
       "      <td>Mitte</td>\n",
       "      <td>Radisson Blu</td>\n",
       "      <td>Hotel</td>\n",
       "      <td>52.519561</td>\n",
       "      <td>13.402857</td>\n",
       "    </tr>\n",
       "    <tr>\n",
       "      <th>11</th>\n",
       "      <td>Mitte</td>\n",
       "      <td>Capri By Fraser Berlin</td>\n",
       "      <td>Hotel</td>\n",
       "      <td>52.513972</td>\n",
       "      <td>13.404902</td>\n",
       "    </tr>\n",
       "    <tr>\n",
       "      <th>12</th>\n",
       "      <td>Mitte</td>\n",
       "      <td>Hotel Nikolai Residence</td>\n",
       "      <td>Hotel</td>\n",
       "      <td>52.517283</td>\n",
       "      <td>13.406423</td>\n",
       "    </tr>\n",
       "  </tbody>\n",
       "</table>\n",
       "</div>"
      ],
      "text/plain": [
       "          Locality                      Venue_name Category   Latitude  \\\n",
       "0   Charlottenburg           Leonardo Hotel Berlin    Hotel  52.512792   \n",
       "1   Charlottenburg                      Smart Stay   Hostel  52.513457   \n",
       "2   Charlottenburg  Ibis Styles Berlin an der Oper    Hotel  52.511680   \n",
       "3   Friedrichshain                Sunflower Hostel   Hostel  52.509634   \n",
       "4   Friedrichshain              Kiez Hostel Berlin   Hostel  52.509850   \n",
       "5      Wilmersdorf     Hotel-Pension Gasteiner Hof    Hotel  52.487317   \n",
       "6      Wilmersdorf           Ibis Berlin City West    Hotel  52.489119   \n",
       "7    Gesundbrunnen   MOXY Berlin Humboldthain Park    Hotel  52.549568   \n",
       "8    Gesundbrunnen                  Hostelo Berlin   Hostel  52.550452   \n",
       "9    Gesundbrunnen          Apartment & Hotel Ocak    Hotel  52.550891   \n",
       "10           Mitte                    Radisson Blu    Hotel  52.519561   \n",
       "11           Mitte          Capri By Fraser Berlin    Hotel  52.513972   \n",
       "12           Mitte         Hotel Nikolai Residence    Hotel  52.517283   \n",
       "\n",
       "    Longitude  \n",
       "0   13.304764  \n",
       "1   13.305024  \n",
       "2   13.312215  \n",
       "3   13.446249  \n",
       "4   13.447432  \n",
       "5   13.323413  \n",
       "6   13.316607  \n",
       "7   13.384071  \n",
       "8   13.391515  \n",
       "9   13.391649  \n",
       "10  13.402857  \n",
       "11  13.404902  \n",
       "12  13.406423  "
      ]
     },
     "execution_count": 13,
     "metadata": {},
     "output_type": "execute_result"
    }
   ],
   "source": [
    "Hotel_venues"
   ]
  },
  {
   "cell_type": "markdown",
   "metadata": {},
   "source": [
    "Let's find out which of these are located in good business areas. The conditions set previously need to be met:\n",
    "* The number of hotel/accommodation businesses in the area. Say within a radius of 400m\n",
    "* The venue is in an area where is well served by public transport. Let's estimate within 200m radius to have public transport services. \n",
    "* The hotel/accommodation is located in an area with high population (based on the dataset)\n"
   ]
  },
  {
   "cell_type": "markdown",
   "metadata": {},
   "source": [
    "### 2.3. Find the number of recommended venues within the 400m of the hotel/ accommodation business."
   ]
  },
  {
   "cell_type": "code",
   "execution_count": 17,
   "metadata": {},
   "outputs": [],
   "source": [
    "def check_for_venues(Hotel_venues):\n",
    "    places=[]\n",
    "    for lat, lon in zip(Hotel_venues.iloc[:,3], Hotel_venues.iloc[:,4]):\n",
    "        url = 'https://api.foursquare.com/v2/venues/explore?&client_id={}&client_secret={}&v={}&ll={},{}&radius={}&limit={}'.format(\n",
    "                    CLIENT_ID, \n",
    "                    CLIENT_SECRET, \n",
    "                    VERSION, \n",
    "                    lat, \n",
    "                    lon, \n",
    "                    400, \n",
    "                    LIMIT)\n",
    "        results = requests.get(url).json()[\"response\"]['groups'][0]['items']\n",
    "        global API_counter\n",
    "        API_counter+=1\n",
    "\n",
    "        places.append(len(results))\n",
    "         \n",
    "    return (places, API_counter)\n",
    "\n",
    "No_of_venues,API  = check_for_venues(Hotel_venues)\n",
    "            \n",
    "      \n"
   ]
  },
  {
   "cell_type": "code",
   "execution_count": null,
   "metadata": {},
   "outputs": [],
   "source": []
  },
  {
   "cell_type": "markdown",
   "metadata": {},
   "source": [
    "### 2.4 Is the venue in an area with good public transport? Public transport within 200m and >=2 transport means?"
   ]
  },
  {
   "cell_type": "code",
   "execution_count": 18,
   "metadata": {},
   "outputs": [],
   "source": [
    "transport_list = [\"Travel & Transport\", \"Transportation Service\", \"Tram Station\", \"Train Station\",\n",
    "                  \"Train\", \"Platform\", \"Taxi\", \"Bus Station\", \"Bus Line\", \"Bus Stop\", \"Cable Car\", \"Tram Station\"]"
   ]
  },
  {
   "cell_type": "code",
   "execution_count": 19,
   "metadata": {},
   "outputs": [],
   "source": [
    "Public_transport=[]\n",
    "for lat, lon in zip(Hotel_venues.iloc[:,3], Hotel_venues.iloc[:,4]):\n",
    "    url = 'https://api.foursquare.com/v2/venues/search?&client_id={}&client_secret={}&v={}&ll={},{}&radius={}&limit={}'.format(\n",
    "                CLIENT_ID, \n",
    "                CLIENT_SECRET, \n",
    "                VERSION, \n",
    "                lat, \n",
    "                lon, \n",
    "                200, \n",
    "                LIMIT)\n",
    "    \n",
    "    results = requests.get(url).json()[\"response\"][\"venues\"]\n",
    "    global API_counter\n",
    "    API+=1\n",
    "    \n",
    "    temp=[]\n",
    "    for entry in results:\n",
    "        try:\n",
    "            if entry[\"categories\"][0][\"name\"] in transport_list:\n",
    "                temp.append(entry[\"categories\"][0][\"name\"])\n",
    "        except:\n",
    "            pass\n",
    "    if len(temp)>1:\n",
    "        Public_transport.append(temp)\n",
    "    else:\n",
    "        Public_transport.append(\"Not adequate transport\")\n",
    "        \n",
    "        \n",
    " "
   ]
  },
  {
   "cell_type": "markdown",
   "metadata": {},
   "source": [
    "### 2.5 Merge hotel table with retrieved data"
   ]
  },
  {
   "cell_type": "code",
   "execution_count": 20,
   "metadata": {},
   "outputs": [],
   "source": [
    "Hotel_venues[\"No. of recom. places\"] = np.array(No_of_venues)\n",
    "Hotel_venues[\"Public transport\"] = Public_transport"
   ]
  },
  {
   "cell_type": "markdown",
   "metadata": {},
   "source": [
    "### 2.6 Add locality population to the table"
   ]
  },
  {
   "cell_type": "code",
   "execution_count": 21,
   "metadata": {},
   "outputs": [],
   "source": [
    "Hotel_venues[\"Locality population\"] = np.zeros([Hotel_venues.shape[0],1])\n",
    "Hotel_venues[\"Locality population\"] = Hotel_venues[\"Locality\"].apply(\n",
    "    lambda x: localities_table.iloc[localities_table.index[localities_table[\"Locality\"]==str(x)],3].values[0]\n",
    "                                           )  \n"
   ]
  },
  {
   "cell_type": "code",
   "execution_count": 22,
   "metadata": {},
   "outputs": [
    {
     "data": {
      "text/html": [
       "<div>\n",
       "<style scoped>\n",
       "    .dataframe tbody tr th:only-of-type {\n",
       "        vertical-align: middle;\n",
       "    }\n",
       "\n",
       "    .dataframe tbody tr th {\n",
       "        vertical-align: top;\n",
       "    }\n",
       "\n",
       "    .dataframe thead th {\n",
       "        text-align: right;\n",
       "    }\n",
       "</style>\n",
       "<table border=\"1\" class=\"dataframe\">\n",
       "  <thead>\n",
       "    <tr style=\"text-align: right;\">\n",
       "      <th></th>\n",
       "      <th>Locality</th>\n",
       "      <th>Venue_name</th>\n",
       "      <th>Category</th>\n",
       "      <th>Latitude</th>\n",
       "      <th>Longitude</th>\n",
       "      <th>No. of recom. places</th>\n",
       "      <th>Public transport</th>\n",
       "      <th>Locality population</th>\n",
       "    </tr>\n",
       "  </thead>\n",
       "  <tbody>\n",
       "    <tr>\n",
       "      <th>0</th>\n",
       "      <td>Charlottenburg</td>\n",
       "      <td>Leonardo Hotel Berlin</td>\n",
       "      <td>Hotel</td>\n",
       "      <td>52.512792</td>\n",
       "      <td>13.304764</td>\n",
       "      <td>40</td>\n",
       "      <td>Not adequate transport</td>\n",
       "      <td>118704</td>\n",
       "    </tr>\n",
       "    <tr>\n",
       "      <th>1</th>\n",
       "      <td>Charlottenburg</td>\n",
       "      <td>Smart Stay</td>\n",
       "      <td>Hostel</td>\n",
       "      <td>52.513457</td>\n",
       "      <td>13.305024</td>\n",
       "      <td>28</td>\n",
       "      <td>Not adequate transport</td>\n",
       "      <td>118704</td>\n",
       "    </tr>\n",
       "    <tr>\n",
       "      <th>2</th>\n",
       "      <td>Charlottenburg</td>\n",
       "      <td>Ibis Styles Berlin an der Oper</td>\n",
       "      <td>Hotel</td>\n",
       "      <td>52.511680</td>\n",
       "      <td>13.312215</td>\n",
       "      <td>23</td>\n",
       "      <td>Not adequate transport</td>\n",
       "      <td>118704</td>\n",
       "    </tr>\n",
       "    <tr>\n",
       "      <th>3</th>\n",
       "      <td>Friedrichshain</td>\n",
       "      <td>Sunflower Hostel</td>\n",
       "      <td>Hostel</td>\n",
       "      <td>52.509634</td>\n",
       "      <td>13.446249</td>\n",
       "      <td>48</td>\n",
       "      <td>Not adequate transport</td>\n",
       "      <td>114050</td>\n",
       "    </tr>\n",
       "    <tr>\n",
       "      <th>4</th>\n",
       "      <td>Friedrichshain</td>\n",
       "      <td>Kiez Hostel Berlin</td>\n",
       "      <td>Hostel</td>\n",
       "      <td>52.509850</td>\n",
       "      <td>13.447432</td>\n",
       "      <td>59</td>\n",
       "      <td>Not adequate transport</td>\n",
       "      <td>114050</td>\n",
       "    </tr>\n",
       "    <tr>\n",
       "      <th>5</th>\n",
       "      <td>Wilmersdorf</td>\n",
       "      <td>Hotel-Pension Gasteiner Hof</td>\n",
       "      <td>Hotel</td>\n",
       "      <td>52.487317</td>\n",
       "      <td>13.323413</td>\n",
       "      <td>41</td>\n",
       "      <td>[Bus Stop, Bus Line, Bus Stop]</td>\n",
       "      <td>92815</td>\n",
       "    </tr>\n",
       "    <tr>\n",
       "      <th>6</th>\n",
       "      <td>Wilmersdorf</td>\n",
       "      <td>Ibis Berlin City West</td>\n",
       "      <td>Hotel</td>\n",
       "      <td>52.489119</td>\n",
       "      <td>13.316607</td>\n",
       "      <td>25</td>\n",
       "      <td>Not adequate transport</td>\n",
       "      <td>92815</td>\n",
       "    </tr>\n",
       "    <tr>\n",
       "      <th>7</th>\n",
       "      <td>Gesundbrunnen</td>\n",
       "      <td>MOXY Berlin Humboldthain Park</td>\n",
       "      <td>Hotel</td>\n",
       "      <td>52.549568</td>\n",
       "      <td>13.384071</td>\n",
       "      <td>30</td>\n",
       "      <td>[Bus Line, Bus Stop]</td>\n",
       "      <td>82729</td>\n",
       "    </tr>\n",
       "    <tr>\n",
       "      <th>8</th>\n",
       "      <td>Gesundbrunnen</td>\n",
       "      <td>Hostelo Berlin</td>\n",
       "      <td>Hostel</td>\n",
       "      <td>52.550452</td>\n",
       "      <td>13.391515</td>\n",
       "      <td>48</td>\n",
       "      <td>[Train Station, Platform, Platform, Platform, ...</td>\n",
       "      <td>82729</td>\n",
       "    </tr>\n",
       "    <tr>\n",
       "      <th>9</th>\n",
       "      <td>Gesundbrunnen</td>\n",
       "      <td>Apartment &amp; Hotel Ocak</td>\n",
       "      <td>Hotel</td>\n",
       "      <td>52.550891</td>\n",
       "      <td>13.391649</td>\n",
       "      <td>45</td>\n",
       "      <td>[Train Station, Platform, Platform]</td>\n",
       "      <td>82729</td>\n",
       "    </tr>\n",
       "    <tr>\n",
       "      <th>10</th>\n",
       "      <td>Mitte</td>\n",
       "      <td>Radisson Blu</td>\n",
       "      <td>Hotel</td>\n",
       "      <td>52.519561</td>\n",
       "      <td>13.402857</td>\n",
       "      <td>65</td>\n",
       "      <td>[Bus Line, Bus Line]</td>\n",
       "      <td>79582</td>\n",
       "    </tr>\n",
       "    <tr>\n",
       "      <th>11</th>\n",
       "      <td>Mitte</td>\n",
       "      <td>Capri By Fraser Berlin</td>\n",
       "      <td>Hotel</td>\n",
       "      <td>52.513972</td>\n",
       "      <td>13.404902</td>\n",
       "      <td>49</td>\n",
       "      <td>[Bus Stop, Bus Stop]</td>\n",
       "      <td>79582</td>\n",
       "    </tr>\n",
       "    <tr>\n",
       "      <th>12</th>\n",
       "      <td>Mitte</td>\n",
       "      <td>Hotel Nikolai Residence</td>\n",
       "      <td>Hotel</td>\n",
       "      <td>52.517283</td>\n",
       "      <td>13.406423</td>\n",
       "      <td>65</td>\n",
       "      <td>Not adequate transport</td>\n",
       "      <td>79582</td>\n",
       "    </tr>\n",
       "  </tbody>\n",
       "</table>\n",
       "</div>"
      ],
      "text/plain": [
       "          Locality                      Venue_name Category   Latitude  \\\n",
       "0   Charlottenburg           Leonardo Hotel Berlin    Hotel  52.512792   \n",
       "1   Charlottenburg                      Smart Stay   Hostel  52.513457   \n",
       "2   Charlottenburg  Ibis Styles Berlin an der Oper    Hotel  52.511680   \n",
       "3   Friedrichshain                Sunflower Hostel   Hostel  52.509634   \n",
       "4   Friedrichshain              Kiez Hostel Berlin   Hostel  52.509850   \n",
       "5      Wilmersdorf     Hotel-Pension Gasteiner Hof    Hotel  52.487317   \n",
       "6      Wilmersdorf           Ibis Berlin City West    Hotel  52.489119   \n",
       "7    Gesundbrunnen   MOXY Berlin Humboldthain Park    Hotel  52.549568   \n",
       "8    Gesundbrunnen                  Hostelo Berlin   Hostel  52.550452   \n",
       "9    Gesundbrunnen          Apartment & Hotel Ocak    Hotel  52.550891   \n",
       "10           Mitte                    Radisson Blu    Hotel  52.519561   \n",
       "11           Mitte          Capri By Fraser Berlin    Hotel  52.513972   \n",
       "12           Mitte         Hotel Nikolai Residence    Hotel  52.517283   \n",
       "\n",
       "    Longitude  No. of recom. places  \\\n",
       "0   13.304764                    40   \n",
       "1   13.305024                    28   \n",
       "2   13.312215                    23   \n",
       "3   13.446249                    48   \n",
       "4   13.447432                    59   \n",
       "5   13.323413                    41   \n",
       "6   13.316607                    25   \n",
       "7   13.384071                    30   \n",
       "8   13.391515                    48   \n",
       "9   13.391649                    45   \n",
       "10  13.402857                    65   \n",
       "11  13.404902                    49   \n",
       "12  13.406423                    65   \n",
       "\n",
       "                                     Public transport  Locality population  \n",
       "0                              Not adequate transport               118704  \n",
       "1                              Not adequate transport               118704  \n",
       "2                              Not adequate transport               118704  \n",
       "3                              Not adequate transport               114050  \n",
       "4                              Not adequate transport               114050  \n",
       "5                      [Bus Stop, Bus Line, Bus Stop]                92815  \n",
       "6                              Not adequate transport                92815  \n",
       "7                                [Bus Line, Bus Stop]                82729  \n",
       "8   [Train Station, Platform, Platform, Platform, ...                82729  \n",
       "9                 [Train Station, Platform, Platform]                82729  \n",
       "10                               [Bus Line, Bus Line]                79582  \n",
       "11                               [Bus Stop, Bus Stop]                79582  \n",
       "12                             Not adequate transport                79582  "
      ]
     },
     "execution_count": 22,
     "metadata": {},
     "output_type": "execute_result"
    }
   ],
   "source": [
    "Hotel_venues"
   ]
  },
  {
   "cell_type": "markdown",
   "metadata": {},
   "source": [
    "It seems that not all of the venues hotel/ accommodation businesses have good public transport within 200m.\n",
    "\n",
    "It is important that the new hotel business is located in an area with low competition. This means in an area with the least hotels which meet the criteria from the list above.\n"
   ]
  },
  {
   "cell_type": "markdown",
   "metadata": {},
   "source": [
    "# 3. Get the scores for each venue <a name=\"scores\"></a>\n",
    "\n",
    "The scores for each venue will be based on the: (1) number of recommended places in the vicinity, (2) number of public transport, (3) locality population, (4) number of hotel businesses that meet the search criteria.\n",
    "\n",
    "The formula to be used to get the scores for each venue is (1) x (2) x (3) )/ (4)\n",
    "\n",
    "\n"
   ]
  },
  {
   "cell_type": "markdown",
   "metadata": {},
   "source": [
    "### 3.1 First let's get the number of hotel business for each area and include this in the dataframe"
   ]
  },
  {
   "cell_type": "code",
   "execution_count": 23,
   "metadata": {},
   "outputs": [],
   "source": [
    "Hotel_venues[\"No. of hotels in area\"] = np.zeros(Hotel_venues.shape[0])"
   ]
  },
  {
   "cell_type": "code",
   "execution_count": 24,
   "metadata": {},
   "outputs": [],
   "source": [
    "Hotel_venues[\"No. of hotels in area\"] = Hotel_venues[\"Locality\"].apply(\n",
    "    lambda x: Hotel_venues[\"Locality\"].value_counts()[x]\n",
    "                                           )  "
   ]
  },
  {
   "cell_type": "markdown",
   "metadata": {},
   "source": [
    "### 3.2 Second let's create a column in the dataframe for the number of transport means in the vicinity of each business"
   ]
  },
  {
   "cell_type": "code",
   "execution_count": 25,
   "metadata": {},
   "outputs": [],
   "source": [
    "Nearby_transport=[]\n",
    "for i in range(0,Hotel_venues.shape[0]):\n",
    "    if Hotel_venues.iloc[i,6]==\"Not adequate transport\":\n",
    "        Nearby_transport.append(1)\n",
    "    else:\n",
    "        Nearby_transport.append(len(Hotel_venues.iloc[i,6]))\n",
    "        \n",
    "Hotel_venues.insert(7, column=\"No. of competitors\", value=Nearby_transport)"
   ]
  },
  {
   "cell_type": "markdown",
   "metadata": {},
   "source": [
    "### 3.3 Now let's calculate the scores for each hotel/ accommodation business as described above"
   ]
  },
  {
   "cell_type": "code",
   "execution_count": 26,
   "metadata": {},
   "outputs": [],
   "source": [
    "scores=[]\n",
    "for i in range(0,Hotel_venues.shape[0]):\n",
    "    scores.append( round( ((Hotel_venues.iloc[i,5]*Hotel_venues.iloc[i,7]*Hotel_venues.iloc[i,5]*8)/Hotel_venues.iloc[i,9]),2) )\n",
    "\n",
    "Hotel_venues[\"scores\"] = np.asarray(scores)\n"
   ]
  },
  {
   "cell_type": "markdown",
   "metadata": {},
   "source": [
    "Sort the table by the score values - high to low"
   ]
  },
  {
   "cell_type": "code",
   "execution_count": 27,
   "metadata": {},
   "outputs": [],
   "source": [
    "Hotel_venues.sort_values(by=\"scores\", ascending=False,inplace=True )\n",
    "Hotel_venues.reset_index(drop=True, inplace=True)"
   ]
  },
  {
   "cell_type": "code",
   "execution_count": 294,
   "metadata": {},
   "outputs": [
    {
     "data": {
      "text/html": [
       "<div>\n",
       "<style scoped>\n",
       "    .dataframe tbody tr th:only-of-type {\n",
       "        vertical-align: middle;\n",
       "    }\n",
       "\n",
       "    .dataframe tbody tr th {\n",
       "        vertical-align: top;\n",
       "    }\n",
       "\n",
       "    .dataframe thead th {\n",
       "        text-align: right;\n",
       "    }\n",
       "</style>\n",
       "<table border=\"1\" class=\"dataframe\">\n",
       "  <thead>\n",
       "    <tr style=\"text-align: right;\">\n",
       "      <th></th>\n",
       "      <th>Locality</th>\n",
       "      <th>Venue_name</th>\n",
       "      <th>Category</th>\n",
       "      <th>Latitude</th>\n",
       "      <th>Longitude</th>\n",
       "      <th>No. of recom. places</th>\n",
       "      <th>Public transport</th>\n",
       "      <th>No. of transport means</th>\n",
       "      <th>Locality population</th>\n",
       "      <th>No. of hotels in area</th>\n",
       "      <th>scores</th>\n",
       "    </tr>\n",
       "  </thead>\n",
       "  <tbody>\n",
       "    <tr>\n",
       "      <th>0</th>\n",
       "      <td>Gesundbrunnen</td>\n",
       "      <td>Hostelo Berlin</td>\n",
       "      <td>Hostel</td>\n",
       "      <td>52.550452</td>\n",
       "      <td>13.391515</td>\n",
       "      <td>48</td>\n",
       "      <td>[Train Station, Platform, Platform, Platform, ...</td>\n",
       "      <td>5</td>\n",
       "      <td>82729</td>\n",
       "      <td>3</td>\n",
       "      <td>30720.00</td>\n",
       "    </tr>\n",
       "    <tr>\n",
       "      <th>1</th>\n",
       "      <td>Mitte</td>\n",
       "      <td>Radisson Blu</td>\n",
       "      <td>Hotel</td>\n",
       "      <td>52.519561</td>\n",
       "      <td>13.402857</td>\n",
       "      <td>65</td>\n",
       "      <td>[Bus Line, Bus Line]</td>\n",
       "      <td>2</td>\n",
       "      <td>79582</td>\n",
       "      <td>3</td>\n",
       "      <td>22533.33</td>\n",
       "    </tr>\n",
       "    <tr>\n",
       "      <th>2</th>\n",
       "      <td>Wilmersdorf</td>\n",
       "      <td>Hotel-Pension Gasteiner Hof</td>\n",
       "      <td>Hotel</td>\n",
       "      <td>52.487317</td>\n",
       "      <td>13.323413</td>\n",
       "      <td>41</td>\n",
       "      <td>[Bus Stop, Bus Line, Bus Stop]</td>\n",
       "      <td>3</td>\n",
       "      <td>92815</td>\n",
       "      <td>2</td>\n",
       "      <td>20172.00</td>\n",
       "    </tr>\n",
       "    <tr>\n",
       "      <th>3</th>\n",
       "      <td>Gesundbrunnen</td>\n",
       "      <td>Apartment &amp; Hotel Ocak</td>\n",
       "      <td>Hotel</td>\n",
       "      <td>52.550891</td>\n",
       "      <td>13.391649</td>\n",
       "      <td>45</td>\n",
       "      <td>[Train Station, Platform, Platform]</td>\n",
       "      <td>3</td>\n",
       "      <td>82729</td>\n",
       "      <td>3</td>\n",
       "      <td>16200.00</td>\n",
       "    </tr>\n",
       "    <tr>\n",
       "      <th>4</th>\n",
       "      <td>Friedrichshain</td>\n",
       "      <td>Kiez Hostel Berlin</td>\n",
       "      <td>Hostel</td>\n",
       "      <td>52.509850</td>\n",
       "      <td>13.447432</td>\n",
       "      <td>59</td>\n",
       "      <td>Not adequate transport</td>\n",
       "      <td>1</td>\n",
       "      <td>114050</td>\n",
       "      <td>2</td>\n",
       "      <td>13924.00</td>\n",
       "    </tr>\n",
       "    <tr>\n",
       "      <th>5</th>\n",
       "      <td>Mitte</td>\n",
       "      <td>Capri By Fraser Berlin</td>\n",
       "      <td>Hotel</td>\n",
       "      <td>52.513972</td>\n",
       "      <td>13.404902</td>\n",
       "      <td>49</td>\n",
       "      <td>[Bus Stop, Bus Stop]</td>\n",
       "      <td>2</td>\n",
       "      <td>79582</td>\n",
       "      <td>3</td>\n",
       "      <td>12805.33</td>\n",
       "    </tr>\n",
       "    <tr>\n",
       "      <th>6</th>\n",
       "      <td>Mitte</td>\n",
       "      <td>Hotel Nikolai Residence</td>\n",
       "      <td>Hotel</td>\n",
       "      <td>52.517283</td>\n",
       "      <td>13.406423</td>\n",
       "      <td>65</td>\n",
       "      <td>Not adequate transport</td>\n",
       "      <td>1</td>\n",
       "      <td>79582</td>\n",
       "      <td>3</td>\n",
       "      <td>11266.67</td>\n",
       "    </tr>\n",
       "    <tr>\n",
       "      <th>7</th>\n",
       "      <td>Friedrichshain</td>\n",
       "      <td>Sunflower Hostel</td>\n",
       "      <td>Hostel</td>\n",
       "      <td>52.509634</td>\n",
       "      <td>13.446249</td>\n",
       "      <td>48</td>\n",
       "      <td>Not adequate transport</td>\n",
       "      <td>1</td>\n",
       "      <td>114050</td>\n",
       "      <td>2</td>\n",
       "      <td>9216.00</td>\n",
       "    </tr>\n",
       "    <tr>\n",
       "      <th>8</th>\n",
       "      <td>Gesundbrunnen</td>\n",
       "      <td>MOXY Berlin Humboldthain Park</td>\n",
       "      <td>Hotel</td>\n",
       "      <td>52.549568</td>\n",
       "      <td>13.384071</td>\n",
       "      <td>30</td>\n",
       "      <td>[Bus Line, Bus Stop]</td>\n",
       "      <td>2</td>\n",
       "      <td>82729</td>\n",
       "      <td>3</td>\n",
       "      <td>4800.00</td>\n",
       "    </tr>\n",
       "    <tr>\n",
       "      <th>9</th>\n",
       "      <td>Charlottenburg</td>\n",
       "      <td>Leonardo Hotel Berlin</td>\n",
       "      <td>Hotel</td>\n",
       "      <td>52.512792</td>\n",
       "      <td>13.304764</td>\n",
       "      <td>40</td>\n",
       "      <td>Not adequate transport</td>\n",
       "      <td>1</td>\n",
       "      <td>118704</td>\n",
       "      <td>3</td>\n",
       "      <td>4266.67</td>\n",
       "    </tr>\n",
       "    <tr>\n",
       "      <th>10</th>\n",
       "      <td>Wilmersdorf</td>\n",
       "      <td>Ibis Berlin City West</td>\n",
       "      <td>Hotel</td>\n",
       "      <td>52.489119</td>\n",
       "      <td>13.316607</td>\n",
       "      <td>25</td>\n",
       "      <td>Not adequate transport</td>\n",
       "      <td>1</td>\n",
       "      <td>92815</td>\n",
       "      <td>2</td>\n",
       "      <td>2500.00</td>\n",
       "    </tr>\n",
       "    <tr>\n",
       "      <th>11</th>\n",
       "      <td>Charlottenburg</td>\n",
       "      <td>Smart Stay</td>\n",
       "      <td>Hostel</td>\n",
       "      <td>52.513457</td>\n",
       "      <td>13.305024</td>\n",
       "      <td>28</td>\n",
       "      <td>Not adequate transport</td>\n",
       "      <td>1</td>\n",
       "      <td>118704</td>\n",
       "      <td>3</td>\n",
       "      <td>2090.67</td>\n",
       "    </tr>\n",
       "    <tr>\n",
       "      <th>12</th>\n",
       "      <td>Charlottenburg</td>\n",
       "      <td>Ibis Styles Berlin an der Oper</td>\n",
       "      <td>Hotel</td>\n",
       "      <td>52.511680</td>\n",
       "      <td>13.312215</td>\n",
       "      <td>23</td>\n",
       "      <td>Not adequate transport</td>\n",
       "      <td>1</td>\n",
       "      <td>118704</td>\n",
       "      <td>3</td>\n",
       "      <td>1410.67</td>\n",
       "    </tr>\n",
       "  </tbody>\n",
       "</table>\n",
       "</div>"
      ],
      "text/plain": [
       "          Locality                      Venue_name Category   Latitude  \\\n",
       "0    Gesundbrunnen                  Hostelo Berlin   Hostel  52.550452   \n",
       "1            Mitte                    Radisson Blu    Hotel  52.519561   \n",
       "2      Wilmersdorf     Hotel-Pension Gasteiner Hof    Hotel  52.487317   \n",
       "3    Gesundbrunnen          Apartment & Hotel Ocak    Hotel  52.550891   \n",
       "4   Friedrichshain              Kiez Hostel Berlin   Hostel  52.509850   \n",
       "5            Mitte          Capri By Fraser Berlin    Hotel  52.513972   \n",
       "6            Mitte         Hotel Nikolai Residence    Hotel  52.517283   \n",
       "7   Friedrichshain                Sunflower Hostel   Hostel  52.509634   \n",
       "8    Gesundbrunnen   MOXY Berlin Humboldthain Park    Hotel  52.549568   \n",
       "9   Charlottenburg           Leonardo Hotel Berlin    Hotel  52.512792   \n",
       "10     Wilmersdorf           Ibis Berlin City West    Hotel  52.489119   \n",
       "11  Charlottenburg                      Smart Stay   Hostel  52.513457   \n",
       "12  Charlottenburg  Ibis Styles Berlin an der Oper    Hotel  52.511680   \n",
       "\n",
       "    Longitude  No. of recom. places  \\\n",
       "0   13.391515                    48   \n",
       "1   13.402857                    65   \n",
       "2   13.323413                    41   \n",
       "3   13.391649                    45   \n",
       "4   13.447432                    59   \n",
       "5   13.404902                    49   \n",
       "6   13.406423                    65   \n",
       "7   13.446249                    48   \n",
       "8   13.384071                    30   \n",
       "9   13.304764                    40   \n",
       "10  13.316607                    25   \n",
       "11  13.305024                    28   \n",
       "12  13.312215                    23   \n",
       "\n",
       "                                     Public transport  No. of transport means  \\\n",
       "0   [Train Station, Platform, Platform, Platform, ...                       5   \n",
       "1                                [Bus Line, Bus Line]                       2   \n",
       "2                      [Bus Stop, Bus Line, Bus Stop]                       3   \n",
       "3                 [Train Station, Platform, Platform]                       3   \n",
       "4                              Not adequate transport                       1   \n",
       "5                                [Bus Stop, Bus Stop]                       2   \n",
       "6                              Not adequate transport                       1   \n",
       "7                              Not adequate transport                       1   \n",
       "8                                [Bus Line, Bus Stop]                       2   \n",
       "9                              Not adequate transport                       1   \n",
       "10                             Not adequate transport                       1   \n",
       "11                             Not adequate transport                       1   \n",
       "12                             Not adequate transport                       1   \n",
       "\n",
       "    Locality population  No. of hotels in area    scores  \n",
       "0                 82729                      3  30720.00  \n",
       "1                 79582                      3  22533.33  \n",
       "2                 92815                      2  20172.00  \n",
       "3                 82729                      3  16200.00  \n",
       "4                114050                      2  13924.00  \n",
       "5                 79582                      3  12805.33  \n",
       "6                 79582                      3  11266.67  \n",
       "7                114050                      2   9216.00  \n",
       "8                 82729                      3   4800.00  \n",
       "9                118704                      3   4266.67  \n",
       "10                92815                      2   2500.00  \n",
       "11               118704                      3   2090.67  \n",
       "12               118704                      3   1410.67  "
      ]
     },
     "execution_count": 294,
     "metadata": {},
     "output_type": "execute_result"
    }
   ],
   "source": [
    "Hotel_venues"
   ]
  },
  {
   "cell_type": "markdown",
   "metadata": {},
   "source": [
    "### 3.3 Let's visualise these businesses on the map based on their scoring "
   ]
  },
  {
   "cell_type": "code",
   "execution_count": 40,
   "metadata": {},
   "outputs": [
    {
     "data": {
      "text/html": [
       "<div style=\"width:100%;\"><div style=\"position:relative;width:100%;height:0;padding-bottom:60%;\"><span style=\"color:#565656\">Make this Notebook Trusted to load map: File -> Trust Notebook</span><iframe src=\"about:blank\" style=\"position:absolute;width:100%;height:100%;left:0;top:0;border:none !important;\" data-html=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 onload=\"this.contentDocument.open();this.contentDocument.write(atob(this.getAttribute('data-html')));this.contentDocument.close();\" allowfullscreen webkitallowfullscreen mozallowfullscreen></iframe></div></div>"
      ],
      "text/plain": [
       "<folium.folium.Map at 0x13ad851a0c8>"
      ]
     },
     "execution_count": 40,
     "metadata": {},
     "output_type": "execute_result"
    }
   ],
   "source": [
    "red = np.array([255 / (Hotel_venues.iloc[:,-1].max()) * Hotel_venues.iloc[i,-1] for i in range(0,13) ])\n",
    "\n",
    "Business_map = folium.Map(width=700, height=400,location=[52.5200, 13.4050], zoom_start=12)\n",
    "\n",
    "for i, (lat, lon) in enumerate(zip(Hotel_venues['Latitude'], Hotel_venues['Longitude'])):\n",
    "    folium.CircleMarker(\n",
    "        [lat, lon],\n",
    "        radius=10,\n",
    "        color= \"#{0:02x}{1:02x}{2:02x}\".format(int(red[i]),0,0),\n",
    "        fill=True,\n",
    "        fill_color= \"#{0:02x}{1:02x}{2:02x}\".format(int(red[i]),0,0) ,\n",
    "        fill_opacity=0.7).add_to(Business_map)\n",
    "\n",
    "Business_map\n",
    "\n",
    "\n",
    "\n",
    "\n"
   ]
  },
  {
   "cell_type": "markdown",
   "metadata": {},
   "source": [
    "# 4. Results <a name=\"results\"></a>"
   ]
  },
  {
   "cell_type": "markdown",
   "metadata": {},
   "source": [
    "From the map above we can see the areas with the higher potential to be a good business based on the available information.\n",
    "\n",
    "The areas with more intense red colour are the areas with higher score meaning good areas to consider.\n",
    "\n",
    "If we take a closer look we see that the competitors in the areas of interest are as follows:\n",
    "* Gesundbrunnen: 2 competitors\n",
    "* Wilmersdorf: 1 competitor\n",
    "* Mitte: 3 competitors\n",
    "\n",
    "Friedrichshain and Charlottenburg are clearly lower scored therefore we disregard these areas for the new hotel business.\n"
   ]
  },
  {
   "cell_type": "markdown",
   "metadata": {},
   "source": [
    "# 5. Conclusion and future work <a name=\"conclusion\"></a>"
   ]
  },
  {
   "cell_type": "markdown",
   "metadata": {},
   "source": [
    "The areas of interest have been identified and marked on the map with the use of folium API.\n",
    "These areas of interest are Gesundbrunnen, Wilmersdorf and Mitte.\n",
    "\n",
    "These results need to be taken on board and shared with the stakeholders of the new business to recieve their feedback and recommednations.\n",
    "Their feedback should be used for further analysis. \n",
    "\n",
    "We can also propose the following studies provided that the required data will be obtaind:\n",
    "\n",
    " * Analyse the tourism in each area; i.e how strong is the touristic population in each area and understand the reasons to visit each area.\n",
    " * Consider the cost of building in each area; land, permissions, agreements.\n",
    " * Analyse tehe demographics of each area; i.e how is the area growing and how did it grow within the last say 10 years. Prospects for careers    around the area? \n",
    "\n",
    "\n",
    "\n",
    "\n"
   ]
  },
  {
   "cell_type": "markdown",
   "metadata": {},
   "source": [
    "  "
   ]
  },
  {
   "cell_type": "markdown",
   "metadata": {},
   "source": [
    " "
   ]
  },
  {
   "cell_type": "markdown",
   "metadata": {},
   "source": [
    " "
   ]
  },
  {
   "cell_type": "markdown",
   "metadata": {},
   "source": [
    "\n",
    "\n",
    "\n",
    "\n",
    "\n",
    "\n",
    "Thank you for reading through my work! I hope you found this interesting. If you have feedback even better! Drop me some thoughts in _cn.costantinou@gmail.com_ \n",
    "\n",
    "\n",
    "\n"
   ]
  },
  {
   "cell_type": "markdown",
   "metadata": {},
   "source": [
    " "
   ]
  },
  {
   "cell_type": "markdown",
   "metadata": {},
   "source": [
    " "
   ]
  }
 ],
 "metadata": {
  "kernelspec": {
   "display_name": "Python 3",
   "language": "python",
   "name": "python3"
  },
  "language_info": {
   "codemirror_mode": {
    "name": "ipython",
    "version": 3
   },
   "file_extension": ".py",
   "mimetype": "text/x-python",
   "name": "python",
   "nbconvert_exporter": "python",
   "pygments_lexer": "ipython3",
   "version": "3.7.6"
  }
 },
 "nbformat": 4,
 "nbformat_minor": 4
}
