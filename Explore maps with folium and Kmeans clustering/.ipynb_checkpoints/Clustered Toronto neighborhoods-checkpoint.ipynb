{
 "cells": [
  {
   "cell_type": "markdown",
   "metadata": {},
   "source": [
    "# Explore the city of Toronto and its neighborhoods and cluster the neighborhoods in groups based on similarity\n",
    "\n",
    "For this project we use data from Foursquare platform \n"
   ]
  },
  {
   "cell_type": "code",
   "execution_count": 755,
   "metadata": {},
   "outputs": [],
   "source": [
    "import pandas as pd\n",
    "import numpy as np\n",
    "from bs4 import BeautifulSoup\n",
    "import requests\n",
    "import geocoder\n",
    "from sklearn.cluster import KMeans\n",
    "import folium \n",
    "import matplotlib.cm as cm\n",
    "import matplotlib.colors as colors\n",
    "import FSquare"
   ]
  },
  {
   "cell_type": "code",
   "execution_count": null,
   "metadata": {},
   "outputs": [],
   "source": []
  },
  {
   "cell_type": "markdown",
   "metadata": {},
   "source": [
    "## 1. Web Scraping to retrieve the Toronto neighborhoods table from wikipedia \n",
    "###### _Link to data: https://en.wikipedia.org/wiki/List_of_postal_codes_of_Canada:_M_\n",
    "\n"
   ]
  },
  {
   "cell_type": "code",
   "execution_count": 148,
   "metadata": {},
   "outputs": [],
   "source": [
    "url = r\"https://en.wikipedia.org/wiki/List_of_postal_codes_of_Canada:_M\"\n",
    "r= requests.get(url)\n",
    "soup = BeautifulSoup(r.text, 'html.parser')\n",
    "#a=pd.read_html(r.text) #This code finds the table automatically use a[0] for the table"
   ]
  },
  {
   "cell_type": "markdown",
   "metadata": {},
   "source": [
    "#### 1.1 Find the table headers"
   ]
  },
  {
   "cell_type": "code",
   "execution_count": 149,
   "metadata": {},
   "outputs": [],
   "source": [
    "table = soup.find('table', attrs={'class':'wikitable sortable'})\n",
    "table_rows = table.find_all('th')\n",
    "table = soup.find('table', attrs={'class':'wikitable sortable'})\n",
    "headers= table.find_all('th')\n",
    "\n",
    "Headers=np.array([headers[i].text[:-1] for i, title in enumerate(headers)])\n"
   ]
  },
  {
   "cell_type": "markdown",
   "metadata": {},
   "source": [
    "#### 1.2 Find the Neighborhoods"
   ]
  },
  {
   "cell_type": "code",
   "execution_count": 2,
   "metadata": {},
   "outputs": [],
   "source": [
    "rows= table.find_all('td')\n",
    "Neighborhoods= np.array([rows[3*i+2].text[:-1] for i in range(0,int(len(rows)/3)) ])  \n"
   ]
  },
  {
   "cell_type": "markdown",
   "metadata": {},
   "source": [
    "#### 1.3 Find the Boroughs"
   ]
  },
  {
   "cell_type": "code",
   "execution_count": 151,
   "metadata": {},
   "outputs": [],
   "source": [
    "Boroughs = np.array([rows[i].text[:-1] for i, borough in enumerate(rows) if i%3==1  ])"
   ]
  },
  {
   "cell_type": "markdown",
   "metadata": {},
   "source": [
    "#### 1.4 Find the post codes"
   ]
  },
  {
   "cell_type": "code",
   "execution_count": 152,
   "metadata": {},
   "outputs": [],
   "source": [
    "Post_codes= np.array([rows[i].text[:-1] for i, borough in enumerate(rows) if i%3==0  ])"
   ]
  },
  {
   "cell_type": "markdown",
   "metadata": {},
   "source": [
    "## 2. Create dataframe from retrieved data"
   ]
  },
  {
   "cell_type": "code",
   "execution_count": 206,
   "metadata": {},
   "outputs": [],
   "source": [
    "Toronto_init = pd.DataFrame({'PostalCode' : Post_codes, 'Borough' : Boroughs, 'Neighborhood' : Neighborhoods})"
   ]
  },
  {
   "cell_type": "code",
   "execution_count": 207,
   "metadata": {},
   "outputs": [
    {
     "data": {
      "text/html": [
       "<div>\n",
       "<style scoped>\n",
       "    .dataframe tbody tr th:only-of-type {\n",
       "        vertical-align: middle;\n",
       "    }\n",
       "\n",
       "    .dataframe tbody tr th {\n",
       "        vertical-align: top;\n",
       "    }\n",
       "\n",
       "    .dataframe thead th {\n",
       "        text-align: right;\n",
       "    }\n",
       "</style>\n",
       "<table border=\"1\" class=\"dataframe\">\n",
       "  <thead>\n",
       "    <tr style=\"text-align: right;\">\n",
       "      <th></th>\n",
       "      <th>PostalCode</th>\n",
       "      <th>Borough</th>\n",
       "      <th>Neighborhood</th>\n",
       "    </tr>\n",
       "  </thead>\n",
       "  <tbody>\n",
       "    <tr>\n",
       "      <th>0</th>\n",
       "      <td>M1A</td>\n",
       "      <td>Not assigned</td>\n",
       "      <td>Not assigned</td>\n",
       "    </tr>\n",
       "    <tr>\n",
       "      <th>1</th>\n",
       "      <td>M2A</td>\n",
       "      <td>Not assigned</td>\n",
       "      <td>Not assigned</td>\n",
       "    </tr>\n",
       "    <tr>\n",
       "      <th>2</th>\n",
       "      <td>M3A</td>\n",
       "      <td>North York</td>\n",
       "      <td>Parkwoods</td>\n",
       "    </tr>\n",
       "    <tr>\n",
       "      <th>3</th>\n",
       "      <td>M4A</td>\n",
       "      <td>North York</td>\n",
       "      <td>Victoria Village</td>\n",
       "    </tr>\n",
       "    <tr>\n",
       "      <th>4</th>\n",
       "      <td>M5A</td>\n",
       "      <td>Downtown Toronto</td>\n",
       "      <td>Regent Park, Harbourfront</td>\n",
       "    </tr>\n",
       "  </tbody>\n",
       "</table>\n",
       "</div>"
      ],
      "text/plain": [
       "  PostalCode           Borough               Neighborhood\n",
       "0        M1A      Not assigned               Not assigned\n",
       "1        M2A      Not assigned               Not assigned\n",
       "2        M3A        North York                  Parkwoods\n",
       "3        M4A        North York           Victoria Village\n",
       "4        M5A  Downtown Toronto  Regent Park, Harbourfront"
      ]
     },
     "execution_count": 207,
     "metadata": {},
     "output_type": "execute_result"
    }
   ],
   "source": [
    "Toronto_init.head(5)"
   ]
  },
  {
   "cell_type": "markdown",
   "metadata": {},
   "source": [
    "#### 2.1 Delete the rows with not assigned boroughs"
   ]
  },
  {
   "cell_type": "code",
   "execution_count": 215,
   "metadata": {},
   "outputs": [
    {
     "data": {
      "text/html": [
       "<div>\n",
       "<style scoped>\n",
       "    .dataframe tbody tr th:only-of-type {\n",
       "        vertical-align: middle;\n",
       "    }\n",
       "\n",
       "    .dataframe tbody tr th {\n",
       "        vertical-align: top;\n",
       "    }\n",
       "\n",
       "    .dataframe thead th {\n",
       "        text-align: right;\n",
       "    }\n",
       "</style>\n",
       "<table border=\"1\" class=\"dataframe\">\n",
       "  <thead>\n",
       "    <tr style=\"text-align: right;\">\n",
       "      <th></th>\n",
       "      <th>PostalCode</th>\n",
       "      <th>Borough</th>\n",
       "      <th>Neighborhood</th>\n",
       "    </tr>\n",
       "  </thead>\n",
       "  <tbody>\n",
       "    <tr>\n",
       "      <th>0</th>\n",
       "      <td>M3A</td>\n",
       "      <td>North York</td>\n",
       "      <td>Parkwoods</td>\n",
       "    </tr>\n",
       "    <tr>\n",
       "      <th>1</th>\n",
       "      <td>M4A</td>\n",
       "      <td>North York</td>\n",
       "      <td>Victoria Village</td>\n",
       "    </tr>\n",
       "    <tr>\n",
       "      <th>2</th>\n",
       "      <td>M5A</td>\n",
       "      <td>Downtown Toronto</td>\n",
       "      <td>Regent Park, Harbourfront</td>\n",
       "    </tr>\n",
       "    <tr>\n",
       "      <th>3</th>\n",
       "      <td>M6A</td>\n",
       "      <td>North York</td>\n",
       "      <td>Lawrence Manor, Lawrence Heights</td>\n",
       "    </tr>\n",
       "    <tr>\n",
       "      <th>4</th>\n",
       "      <td>M7A</td>\n",
       "      <td>Downtown Toronto</td>\n",
       "      <td>Queen's Park, Ontario Provincial Government</td>\n",
       "    </tr>\n",
       "  </tbody>\n",
       "</table>\n",
       "</div>"
      ],
      "text/plain": [
       "  PostalCode           Borough                                 Neighborhood\n",
       "0        M3A        North York                                    Parkwoods\n",
       "1        M4A        North York                             Victoria Village\n",
       "2        M5A  Downtown Toronto                    Regent Park, Harbourfront\n",
       "3        M6A        North York             Lawrence Manor, Lawrence Heights\n",
       "4        M7A  Downtown Toronto  Queen's Park, Ontario Provincial Government"
      ]
     },
     "execution_count": 215,
     "metadata": {},
     "output_type": "execute_result"
    }
   ],
   "source": [
    "Toronto_init.drop(Toronto_init[Toronto_init['Borough']=='Not assigned'].index, inplace=True)\n",
    "Toronto_init.reset_index(drop=True, inplace=True)\n",
    "\n",
    "Toronto_init.head(5)"
   ]
  },
  {
   "cell_type": "markdown",
   "metadata": {},
   "source": [
    "#### 2.2 Check for neighborhoods with 'not assigned' inputs\n",
    "###### Apparently there are none after we cleaned the data in 2.1"
   ]
  },
  {
   "cell_type": "code",
   "execution_count": 209,
   "metadata": {},
   "outputs": [
    {
     "data": {
      "text/html": [
       "<div>\n",
       "<style scoped>\n",
       "    .dataframe tbody tr th:only-of-type {\n",
       "        vertical-align: middle;\n",
       "    }\n",
       "\n",
       "    .dataframe tbody tr th {\n",
       "        vertical-align: top;\n",
       "    }\n",
       "\n",
       "    .dataframe thead th {\n",
       "        text-align: right;\n",
       "    }\n",
       "</style>\n",
       "<table border=\"1\" class=\"dataframe\">\n",
       "  <thead>\n",
       "    <tr style=\"text-align: right;\">\n",
       "      <th></th>\n",
       "      <th>PostalCode</th>\n",
       "      <th>Borough</th>\n",
       "      <th>Neighborhood</th>\n",
       "    </tr>\n",
       "  </thead>\n",
       "  <tbody>\n",
       "  </tbody>\n",
       "</table>\n",
       "</div>"
      ],
      "text/plain": [
       "Empty DataFrame\n",
       "Columns: [PostalCode, Borough, Neighborhood]\n",
       "Index: []"
      ]
     },
     "execution_count": 209,
     "metadata": {},
     "output_type": "execute_result"
    }
   ],
   "source": [
    "Toronto_init[Toronto_init['Neighborhood']=='Not assigned']"
   ]
  },
  {
   "cell_type": "code",
   "execution_count": 239,
   "metadata": {},
   "outputs": [
    {
     "data": {
      "text/plain": [
       "(103, 3)"
      ]
     },
     "execution_count": 239,
     "metadata": {},
     "output_type": "execute_result"
    }
   ],
   "source": [
    "Toronto_init.shape"
   ]
  },
  {
   "cell_type": "markdown",
   "metadata": {},
   "source": [
    "## 3. Find geo co-ordinates for each post code\n",
    "\n",
    "###### We will do this with the provided CSV file https://cocl.us/Geospatial_data"
   ]
  },
  {
   "cell_type": "code",
   "execution_count": 265,
   "metadata": {},
   "outputs": [
    {
     "data": {
      "text/html": [
       "<div>\n",
       "<style scoped>\n",
       "    .dataframe tbody tr th:only-of-type {\n",
       "        vertical-align: middle;\n",
       "    }\n",
       "\n",
       "    .dataframe tbody tr th {\n",
       "        vertical-align: top;\n",
       "    }\n",
       "\n",
       "    .dataframe thead th {\n",
       "        text-align: right;\n",
       "    }\n",
       "</style>\n",
       "<table border=\"1\" class=\"dataframe\">\n",
       "  <thead>\n",
       "    <tr style=\"text-align: right;\">\n",
       "      <th></th>\n",
       "      <th>PostalCode</th>\n",
       "      <th>Latitude</th>\n",
       "      <th>Longitude</th>\n",
       "    </tr>\n",
       "  </thead>\n",
       "  <tbody>\n",
       "    <tr>\n",
       "      <th>0</th>\n",
       "      <td>M1B</td>\n",
       "      <td>43.806686</td>\n",
       "      <td>-79.194353</td>\n",
       "    </tr>\n",
       "    <tr>\n",
       "      <th>1</th>\n",
       "      <td>M1C</td>\n",
       "      <td>43.784535</td>\n",
       "      <td>-79.160497</td>\n",
       "    </tr>\n",
       "    <tr>\n",
       "      <th>2</th>\n",
       "      <td>M1E</td>\n",
       "      <td>43.763573</td>\n",
       "      <td>-79.188711</td>\n",
       "    </tr>\n",
       "    <tr>\n",
       "      <th>3</th>\n",
       "      <td>M1G</td>\n",
       "      <td>43.770992</td>\n",
       "      <td>-79.216917</td>\n",
       "    </tr>\n",
       "    <tr>\n",
       "      <th>4</th>\n",
       "      <td>M1H</td>\n",
       "      <td>43.773136</td>\n",
       "      <td>-79.239476</td>\n",
       "    </tr>\n",
       "  </tbody>\n",
       "</table>\n",
       "</div>"
      ],
      "text/plain": [
       "  PostalCode   Latitude  Longitude\n",
       "0        M1B  43.806686 -79.194353\n",
       "1        M1C  43.784535 -79.160497\n",
       "2        M1E  43.763573 -79.188711\n",
       "3        M1G  43.770992 -79.216917\n",
       "4        M1H  43.773136 -79.239476"
      ]
     },
     "execution_count": 265,
     "metadata": {},
     "output_type": "execute_result"
    }
   ],
   "source": [
    "Cods= pd.read_csv(\"C:\\\\Users\\\\con74781\\\\Downloads\\\\Geospatial_Coordinates.csv\")\n",
    "Cods.columns.values[0] = Toronto_init.columns.values[0]\n",
    "Cods.head()"
   ]
  },
  {
   "cell_type": "markdown",
   "metadata": {},
   "source": [
    "#### 3.1 Update the DataFrame with co-ordinates"
   ]
  },
  {
   "cell_type": "code",
   "execution_count": 271,
   "metadata": {},
   "outputs": [
    {
     "data": {
      "text/html": [
       "<div>\n",
       "<style scoped>\n",
       "    .dataframe tbody tr th:only-of-type {\n",
       "        vertical-align: middle;\n",
       "    }\n",
       "\n",
       "    .dataframe tbody tr th {\n",
       "        vertical-align: top;\n",
       "    }\n",
       "\n",
       "    .dataframe thead th {\n",
       "        text-align: right;\n",
       "    }\n",
       "</style>\n",
       "<table border=\"1\" class=\"dataframe\">\n",
       "  <thead>\n",
       "    <tr style=\"text-align: right;\">\n",
       "      <th></th>\n",
       "      <th>PostalCode</th>\n",
       "      <th>Borough</th>\n",
       "      <th>Neighborhood</th>\n",
       "      <th>Latitude</th>\n",
       "      <th>Longitude</th>\n",
       "    </tr>\n",
       "  </thead>\n",
       "  <tbody>\n",
       "    <tr>\n",
       "      <th>0</th>\n",
       "      <td>M3A</td>\n",
       "      <td>North York</td>\n",
       "      <td>Parkwoods</td>\n",
       "      <td>43.753259</td>\n",
       "      <td>-79.329656</td>\n",
       "    </tr>\n",
       "    <tr>\n",
       "      <th>1</th>\n",
       "      <td>M4A</td>\n",
       "      <td>North York</td>\n",
       "      <td>Victoria Village</td>\n",
       "      <td>43.725882</td>\n",
       "      <td>-79.315572</td>\n",
       "    </tr>\n",
       "    <tr>\n",
       "      <th>2</th>\n",
       "      <td>M5A</td>\n",
       "      <td>Downtown Toronto</td>\n",
       "      <td>Regent Park, Harbourfront</td>\n",
       "      <td>43.654260</td>\n",
       "      <td>-79.360636</td>\n",
       "    </tr>\n",
       "    <tr>\n",
       "      <th>3</th>\n",
       "      <td>M6A</td>\n",
       "      <td>North York</td>\n",
       "      <td>Lawrence Manor, Lawrence Heights</td>\n",
       "      <td>43.718518</td>\n",
       "      <td>-79.464763</td>\n",
       "    </tr>\n",
       "    <tr>\n",
       "      <th>4</th>\n",
       "      <td>M7A</td>\n",
       "      <td>Downtown Toronto</td>\n",
       "      <td>Queen's Park, Ontario Provincial Government</td>\n",
       "      <td>43.662301</td>\n",
       "      <td>-79.389494</td>\n",
       "    </tr>\n",
       "  </tbody>\n",
       "</table>\n",
       "</div>"
      ],
      "text/plain": [
       "  PostalCode           Borough                                 Neighborhood  \\\n",
       "0        M3A        North York                                    Parkwoods   \n",
       "1        M4A        North York                             Victoria Village   \n",
       "2        M5A  Downtown Toronto                    Regent Park, Harbourfront   \n",
       "3        M6A        North York             Lawrence Manor, Lawrence Heights   \n",
       "4        M7A  Downtown Toronto  Queen's Park, Ontario Provincial Government   \n",
       "\n",
       "    Latitude  Longitude  \n",
       "0  43.753259 -79.329656  \n",
       "1  43.725882 -79.315572  \n",
       "2  43.654260 -79.360636  \n",
       "3  43.718518 -79.464763  \n",
       "4  43.662301 -79.389494  "
      ]
     },
     "execution_count": 271,
     "metadata": {},
     "output_type": "execute_result"
    }
   ],
   "source": [
    "Toronto_cods = pd.merge(Toronto_init, Cods,how='inner', on='PostalCode')\n",
    "Toronto_cods.head(5)"
   ]
  },
  {
   "cell_type": "markdown",
   "metadata": {},
   "source": [
    "## 4. Cluster the neigborhoods in Toronto"
   ]
  },
  {
   "cell_type": "markdown",
   "metadata": {},
   "source": [
    "##### _Clustering of the neighborhoods will be based on the categories of venues in the neighborhood._\n",
    "##### _For this purpose we will use the foursquare API_"
   ]
  },
  {
   "cell_type": "code",
   "execution_count": 756,
   "metadata": {},
   "outputs": [],
   "source": [
    "# function to loop through the neighborhoods and the venues in each borough\n",
    "# The radius of search is selected as 500m.\n",
    "\n",
    "# these are the credentials for the foursquare API\n",
    "CLIENT_ID = FSquare.CLIENT_ID\n",
    "CLIENT_SECRET = FSquare.CLIENT_SECRET \n",
    "VERSION = \"20201128\"\n",
    "LIMIT=100\n",
    "radius = 500\n",
    "\n",
    "\n",
    "def getNearbyVenues(names, latitudes, longitudes, radius=500):\n",
    "    \n",
    "    venues_list=[]\n",
    "    for name, lat, lng in zip(names, latitudes, longitudes):\n",
    "            \n",
    "        # create the API request URL\n",
    "        url = 'https://api.foursquare.com/v2/venues/explore?&client_id={}&client_secret={}&v={}&ll={},{}&radius={}&limit={}'.format(\n",
    "            CLIENT_ID, \n",
    "            CLIENT_SECRET, \n",
    "            VERSION, \n",
    "            lat, \n",
    "            lng, \n",
    "            radius, \n",
    "            LIMIT)\n",
    "            \n",
    "        # make the GET request\n",
    "        results = requests.get(url).json()[\"response\"]['groups'][0]['items']\n",
    "        \n",
    "        # return only relevant information for each nearby venue\n",
    "        venues_list.append([(\n",
    "            name, \n",
    "            lat, \n",
    "            lng, \n",
    "            v['venue']['name'], \n",
    "            v['venue']['location']['lat'], \n",
    "            v['venue']['location']['lng'],  \n",
    "            v['venue']['categories'][0]['name']) for v in results])\n",
    "\n",
    "    nearby_venues = pd.DataFrame([item for venue_list in venues_list for item in venue_list])\n",
    "    nearby_venues.columns = ['Neighborhood', \n",
    "                  'Neighborhood Latitude', \n",
    "                  'Neighborhood Longitude', \n",
    "                  'Venue', \n",
    "                  'Venue Latitude', \n",
    "                  'Venue Longitude', \n",
    "                  'Venue Category']\n",
    "    \n",
    "    return(nearby_venues)"
   ]
  },
  {
   "cell_type": "markdown",
   "metadata": {},
   "source": [
    "#### 4.1 Create dataframe with the venues in each neighborhood"
   ]
  },
  {
   "cell_type": "code",
   "execution_count": 400,
   "metadata": {},
   "outputs": [],
   "source": [
    "Venues_by_neighborhood = getNearbyVenues(Toronto_cods[\"Neighborhood\"], Toronto_cods[\"Latitude\"], Toronto_cods[\"Longitude\"] )"
   ]
  },
  {
   "cell_type": "code",
   "execution_count": 638,
   "metadata": {},
   "outputs": [
    {
     "data": {
      "text/html": [
       "<div>\n",
       "<style scoped>\n",
       "    .dataframe tbody tr th:only-of-type {\n",
       "        vertical-align: middle;\n",
       "    }\n",
       "\n",
       "    .dataframe tbody tr th {\n",
       "        vertical-align: top;\n",
       "    }\n",
       "\n",
       "    .dataframe thead th {\n",
       "        text-align: right;\n",
       "    }\n",
       "</style>\n",
       "<table border=\"1\" class=\"dataframe\">\n",
       "  <thead>\n",
       "    <tr style=\"text-align: right;\">\n",
       "      <th></th>\n",
       "      <th>Neighborhood</th>\n",
       "      <th>Neighborhood Latitude</th>\n",
       "      <th>Neighborhood Longitude</th>\n",
       "      <th>Venue</th>\n",
       "      <th>Venue Latitude</th>\n",
       "      <th>Venue Longitude</th>\n",
       "      <th>Venue Category</th>\n",
       "    </tr>\n",
       "  </thead>\n",
       "  <tbody>\n",
       "    <tr>\n",
       "      <th>0</th>\n",
       "      <td>Parkwoods</td>\n",
       "      <td>43.753259</td>\n",
       "      <td>-79.329656</td>\n",
       "      <td>Brookbanks Park</td>\n",
       "      <td>43.751976</td>\n",
       "      <td>-79.332140</td>\n",
       "      <td>Park</td>\n",
       "    </tr>\n",
       "    <tr>\n",
       "      <th>1</th>\n",
       "      <td>Parkwoods</td>\n",
       "      <td>43.753259</td>\n",
       "      <td>-79.329656</td>\n",
       "      <td>Variety Store</td>\n",
       "      <td>43.751974</td>\n",
       "      <td>-79.333114</td>\n",
       "      <td>Food &amp; Drink Shop</td>\n",
       "    </tr>\n",
       "    <tr>\n",
       "      <th>2</th>\n",
       "      <td>Victoria Village</td>\n",
       "      <td>43.725882</td>\n",
       "      <td>-79.315572</td>\n",
       "      <td>Victoria Village Arena</td>\n",
       "      <td>43.723481</td>\n",
       "      <td>-79.315635</td>\n",
       "      <td>Hockey Arena</td>\n",
       "    </tr>\n",
       "    <tr>\n",
       "      <th>3</th>\n",
       "      <td>Victoria Village</td>\n",
       "      <td>43.725882</td>\n",
       "      <td>-79.315572</td>\n",
       "      <td>Tim Hortons</td>\n",
       "      <td>43.725517</td>\n",
       "      <td>-79.313103</td>\n",
       "      <td>Coffee Shop</td>\n",
       "    </tr>\n",
       "    <tr>\n",
       "      <th>4</th>\n",
       "      <td>Victoria Village</td>\n",
       "      <td>43.725882</td>\n",
       "      <td>-79.315572</td>\n",
       "      <td>Portugril</td>\n",
       "      <td>43.725819</td>\n",
       "      <td>-79.312785</td>\n",
       "      <td>Portuguese Restaurant</td>\n",
       "    </tr>\n",
       "  </tbody>\n",
       "</table>\n",
       "</div>"
      ],
      "text/plain": [
       "       Neighborhood  Neighborhood Latitude  Neighborhood Longitude  \\\n",
       "0         Parkwoods              43.753259              -79.329656   \n",
       "1         Parkwoods              43.753259              -79.329656   \n",
       "2  Victoria Village              43.725882              -79.315572   \n",
       "3  Victoria Village              43.725882              -79.315572   \n",
       "4  Victoria Village              43.725882              -79.315572   \n",
       "\n",
       "                    Venue  Venue Latitude  Venue Longitude  \\\n",
       "0         Brookbanks Park       43.751976       -79.332140   \n",
       "1           Variety Store       43.751974       -79.333114   \n",
       "2  Victoria Village Arena       43.723481       -79.315635   \n",
       "3             Tim Hortons       43.725517       -79.313103   \n",
       "4               Portugril       43.725819       -79.312785   \n",
       "\n",
       "          Venue Category  \n",
       "0                   Park  \n",
       "1      Food & Drink Shop  \n",
       "2           Hockey Arena  \n",
       "3            Coffee Shop  \n",
       "4  Portuguese Restaurant  "
      ]
     },
     "execution_count": 638,
     "metadata": {},
     "output_type": "execute_result"
    }
   ],
   "source": [
    "Venues_by_neighborhood.head()\n"
   ]
  },
  {
   "cell_type": "markdown",
   "metadata": {},
   "source": [
    "#### 4.2 Summarise the number of each category for each Neighborhood"
   ]
  },
  {
   "cell_type": "code",
   "execution_count": 489,
   "metadata": {},
   "outputs": [
    {
     "data": {
      "text/html": [
       "<div>\n",
       "<style scoped>\n",
       "    .dataframe tbody tr th:only-of-type {\n",
       "        vertical-align: middle;\n",
       "    }\n",
       "\n",
       "    .dataframe tbody tr th {\n",
       "        vertical-align: top;\n",
       "    }\n",
       "\n",
       "    .dataframe thead th {\n",
       "        text-align: right;\n",
       "    }\n",
       "</style>\n",
       "<table border=\"1\" class=\"dataframe\">\n",
       "  <thead>\n",
       "    <tr style=\"text-align: right;\">\n",
       "      <th></th>\n",
       "      <th>Neighborhood</th>\n",
       "      <th>Accessories Store</th>\n",
       "      <th>Afghan Restaurant</th>\n",
       "      <th>Airport</th>\n",
       "      <th>Airport Food Court</th>\n",
       "      <th>Airport Gate</th>\n",
       "      <th>Airport Lounge</th>\n",
       "      <th>Airport Service</th>\n",
       "      <th>Airport Terminal</th>\n",
       "      <th>American Restaurant</th>\n",
       "      <th>...</th>\n",
       "      <th>Train Station</th>\n",
       "      <th>Turkish Restaurant</th>\n",
       "      <th>Vegetarian / Vegan Restaurant</th>\n",
       "      <th>Video Game Store</th>\n",
       "      <th>Vietnamese Restaurant</th>\n",
       "      <th>Warehouse Store</th>\n",
       "      <th>Wine Bar</th>\n",
       "      <th>Wings Joint</th>\n",
       "      <th>Women's Store</th>\n",
       "      <th>Yoga Studio</th>\n",
       "    </tr>\n",
       "  </thead>\n",
       "  <tbody>\n",
       "    <tr>\n",
       "      <th>0</th>\n",
       "      <td>Parkwoods</td>\n",
       "      <td>0</td>\n",
       "      <td>0</td>\n",
       "      <td>0</td>\n",
       "      <td>0</td>\n",
       "      <td>0</td>\n",
       "      <td>0</td>\n",
       "      <td>0</td>\n",
       "      <td>0</td>\n",
       "      <td>0</td>\n",
       "      <td>...</td>\n",
       "      <td>0</td>\n",
       "      <td>0</td>\n",
       "      <td>0</td>\n",
       "      <td>0</td>\n",
       "      <td>0</td>\n",
       "      <td>0</td>\n",
       "      <td>0</td>\n",
       "      <td>0</td>\n",
       "      <td>0</td>\n",
       "      <td>0</td>\n",
       "    </tr>\n",
       "    <tr>\n",
       "      <th>1</th>\n",
       "      <td>Parkwoods</td>\n",
       "      <td>0</td>\n",
       "      <td>0</td>\n",
       "      <td>0</td>\n",
       "      <td>0</td>\n",
       "      <td>0</td>\n",
       "      <td>0</td>\n",
       "      <td>0</td>\n",
       "      <td>0</td>\n",
       "      <td>0</td>\n",
       "      <td>...</td>\n",
       "      <td>0</td>\n",
       "      <td>0</td>\n",
       "      <td>0</td>\n",
       "      <td>0</td>\n",
       "      <td>0</td>\n",
       "      <td>0</td>\n",
       "      <td>0</td>\n",
       "      <td>0</td>\n",
       "      <td>0</td>\n",
       "      <td>0</td>\n",
       "    </tr>\n",
       "    <tr>\n",
       "      <th>2</th>\n",
       "      <td>Victoria Village</td>\n",
       "      <td>0</td>\n",
       "      <td>0</td>\n",
       "      <td>0</td>\n",
       "      <td>0</td>\n",
       "      <td>0</td>\n",
       "      <td>0</td>\n",
       "      <td>0</td>\n",
       "      <td>0</td>\n",
       "      <td>0</td>\n",
       "      <td>...</td>\n",
       "      <td>0</td>\n",
       "      <td>0</td>\n",
       "      <td>0</td>\n",
       "      <td>0</td>\n",
       "      <td>0</td>\n",
       "      <td>0</td>\n",
       "      <td>0</td>\n",
       "      <td>0</td>\n",
       "      <td>0</td>\n",
       "      <td>0</td>\n",
       "    </tr>\n",
       "    <tr>\n",
       "      <th>3</th>\n",
       "      <td>Victoria Village</td>\n",
       "      <td>0</td>\n",
       "      <td>0</td>\n",
       "      <td>0</td>\n",
       "      <td>0</td>\n",
       "      <td>0</td>\n",
       "      <td>0</td>\n",
       "      <td>0</td>\n",
       "      <td>0</td>\n",
       "      <td>0</td>\n",
       "      <td>...</td>\n",
       "      <td>0</td>\n",
       "      <td>0</td>\n",
       "      <td>0</td>\n",
       "      <td>0</td>\n",
       "      <td>0</td>\n",
       "      <td>0</td>\n",
       "      <td>0</td>\n",
       "      <td>0</td>\n",
       "      <td>0</td>\n",
       "      <td>0</td>\n",
       "    </tr>\n",
       "    <tr>\n",
       "      <th>4</th>\n",
       "      <td>Victoria Village</td>\n",
       "      <td>0</td>\n",
       "      <td>0</td>\n",
       "      <td>0</td>\n",
       "      <td>0</td>\n",
       "      <td>0</td>\n",
       "      <td>0</td>\n",
       "      <td>0</td>\n",
       "      <td>0</td>\n",
       "      <td>0</td>\n",
       "      <td>...</td>\n",
       "      <td>0</td>\n",
       "      <td>0</td>\n",
       "      <td>0</td>\n",
       "      <td>0</td>\n",
       "      <td>0</td>\n",
       "      <td>0</td>\n",
       "      <td>0</td>\n",
       "      <td>0</td>\n",
       "      <td>0</td>\n",
       "      <td>0</td>\n",
       "    </tr>\n",
       "  </tbody>\n",
       "</table>\n",
       "<p>5 rows × 277 columns</p>\n",
       "</div>"
      ],
      "text/plain": [
       "       Neighborhood  Accessories Store  Afghan Restaurant  Airport  \\\n",
       "0         Parkwoods                  0                  0        0   \n",
       "1         Parkwoods                  0                  0        0   \n",
       "2  Victoria Village                  0                  0        0   \n",
       "3  Victoria Village                  0                  0        0   \n",
       "4  Victoria Village                  0                  0        0   \n",
       "\n",
       "   Airport Food Court  Airport Gate  Airport Lounge  Airport Service  \\\n",
       "0                   0             0               0                0   \n",
       "1                   0             0               0                0   \n",
       "2                   0             0               0                0   \n",
       "3                   0             0               0                0   \n",
       "4                   0             0               0                0   \n",
       "\n",
       "   Airport Terminal  American Restaurant  ...  Train Station  \\\n",
       "0                 0                    0  ...              0   \n",
       "1                 0                    0  ...              0   \n",
       "2                 0                    0  ...              0   \n",
       "3                 0                    0  ...              0   \n",
       "4                 0                    0  ...              0   \n",
       "\n",
       "   Turkish Restaurant  Vegetarian / Vegan Restaurant  Video Game Store  \\\n",
       "0                   0                              0                 0   \n",
       "1                   0                              0                 0   \n",
       "2                   0                              0                 0   \n",
       "3                   0                              0                 0   \n",
       "4                   0                              0                 0   \n",
       "\n",
       "   Vietnamese Restaurant  Warehouse Store  Wine Bar  Wings Joint  \\\n",
       "0                      0                0         0            0   \n",
       "1                      0                0         0            0   \n",
       "2                      0                0         0            0   \n",
       "3                      0                0         0            0   \n",
       "4                      0                0         0            0   \n",
       "\n",
       "   Women's Store  Yoga Studio  \n",
       "0              0            0  \n",
       "1              0            0  \n",
       "2              0            0  \n",
       "3              0            0  \n",
       "4              0            0  \n",
       "\n",
       "[5 rows x 277 columns]"
      ]
     },
     "execution_count": 489,
     "metadata": {},
     "output_type": "execute_result"
    }
   ],
   "source": [
    "Venues_onehot = pd.get_dummies(Venues_by_neighborhood['Venue Category'], prefix=\"\", prefix_sep=\"\")\n",
    "Venues_onehot.drop(columns=\"Neighborhood\", inplace=True) # Drop category Neighborhood to avoid clashing with real neighborhood column\n",
    "Venues_onehot.insert(0, 'Neighborhood', Venues_by_neighborhood[\"Neighborhood\"])\n",
    "Venues_onehot.head(5)"
   ]
  },
  {
   "cell_type": "markdown",
   "metadata": {},
   "source": [
    "#### 4.3 Create a look up table"
   ]
  },
  {
   "cell_type": "code",
   "execution_count": 639,
   "metadata": {},
   "outputs": [],
   "source": [
    "Venues_lookup = Venues_onehot.groupby(by=\"Neighborhood\").mean() # to find the % of categories in each neighborhood\n",
    "Venues_lookup = pd.DataFrame(index =Venues_lookup.index,data= Venues_lookup.values.round(2),columns = Venues_lookup.columns )"
   ]
  },
  {
   "cell_type": "markdown",
   "metadata": {},
   "source": [
    "## 5. Cluster the neighborhoods"
   ]
  },
  {
   "cell_type": "code",
   "execution_count": 737,
   "metadata": {},
   "outputs": [
    {
     "data": {
      "text/plain": [
       "array([2, 2, 2, 2, 2, 2, 2, 2, 2, 2, 0, 2, 2, 2, 2, 2, 2, 2, 2, 2, 6, 2,\n",
       "       2, 2, 6, 2, 0, 2, 2, 2, 6, 2, 6, 6, 2, 2, 2, 2, 2, 3, 2, 2, 2, 2,\n",
       "       6, 2, 6, 2, 2, 1, 5, 2, 5, 2, 5, 2, 2, 2, 3, 2, 2, 0, 2, 2, 2, 5,\n",
       "       2, 7, 2, 6, 2, 2, 2, 2, 2, 2, 2, 2, 2, 6, 2, 8, 2, 2, 2, 2, 9, 2,\n",
       "       0, 2, 2, 2, 2, 6, 0, 4])"
      ]
     },
     "execution_count": 737,
     "metadata": {},
     "output_type": "execute_result"
    }
   ],
   "source": [
    "kclusters = 10\n",
    "\n",
    "# run k-means clustering\n",
    "kmeans = KMeans(n_clusters=kclusters, random_state=42).fit(Venues_lookup.values)\n",
    "\n",
    "# check cluster labels generated for each row in the dataframe\n",
    "kmeans.labels_"
   ]
  },
  {
   "cell_type": "code",
   "execution_count": 739,
   "metadata": {},
   "outputs": [],
   "source": [
    "Venues_lookup.insert(0, column = \"Label\", value = kmeans.labels_)\n",
    "# Venues_lookup.drop(\"Label\",1,inplace=True)"
   ]
  },
  {
   "cell_type": "code",
   "execution_count": 740,
   "metadata": {},
   "outputs": [],
   "source": [
    "Clustered_neighborhoods = pd.merge(Venues_lookup.reset_index(), Toronto_cods ,how='inner', on='Neighborhood')"
   ]
  },
  {
   "cell_type": "code",
   "execution_count": 741,
   "metadata": {},
   "outputs": [],
   "source": [
    "columns = list(Clustered_neighborhoods.columns[:2]) + list(Clustered_neighborhoods.columns[-4:]) + list(Clustered_neighborhoods.columns[2:-4])"
   ]
  },
  {
   "cell_type": "code",
   "execution_count": 742,
   "metadata": {},
   "outputs": [],
   "source": [
    "Clustered_neighborhoods = Clustered_neighborhoods[columns]"
   ]
  },
  {
   "cell_type": "code",
   "execution_count": 743,
   "metadata": {},
   "outputs": [
    {
     "data": {
      "text/html": [
       "<div>\n",
       "<style scoped>\n",
       "    .dataframe tbody tr th:only-of-type {\n",
       "        vertical-align: middle;\n",
       "    }\n",
       "\n",
       "    .dataframe tbody tr th {\n",
       "        vertical-align: top;\n",
       "    }\n",
       "\n",
       "    .dataframe thead th {\n",
       "        text-align: right;\n",
       "    }\n",
       "</style>\n",
       "<table border=\"1\" class=\"dataframe\">\n",
       "  <thead>\n",
       "    <tr style=\"text-align: right;\">\n",
       "      <th></th>\n",
       "      <th>Neighborhood</th>\n",
       "      <th>Label</th>\n",
       "      <th>PostalCode</th>\n",
       "      <th>Borough</th>\n",
       "      <th>Latitude</th>\n",
       "      <th>Longitude</th>\n",
       "      <th>Accessories Store</th>\n",
       "      <th>Afghan Restaurant</th>\n",
       "      <th>Airport</th>\n",
       "      <th>Airport Food Court</th>\n",
       "      <th>...</th>\n",
       "      <th>Train Station</th>\n",
       "      <th>Turkish Restaurant</th>\n",
       "      <th>Vegetarian / Vegan Restaurant</th>\n",
       "      <th>Video Game Store</th>\n",
       "      <th>Vietnamese Restaurant</th>\n",
       "      <th>Warehouse Store</th>\n",
       "      <th>Wine Bar</th>\n",
       "      <th>Wings Joint</th>\n",
       "      <th>Women's Store</th>\n",
       "      <th>Yoga Studio</th>\n",
       "    </tr>\n",
       "  </thead>\n",
       "  <tbody>\n",
       "    <tr>\n",
       "      <th>0</th>\n",
       "      <td>Agincourt</td>\n",
       "      <td>2</td>\n",
       "      <td>M1S</td>\n",
       "      <td>Scarborough</td>\n",
       "      <td>43.794200</td>\n",
       "      <td>-79.262029</td>\n",
       "      <td>0.0</td>\n",
       "      <td>0.0</td>\n",
       "      <td>0.0</td>\n",
       "      <td>0.0</td>\n",
       "      <td>...</td>\n",
       "      <td>0.0</td>\n",
       "      <td>0.0</td>\n",
       "      <td>0.0</td>\n",
       "      <td>0.0</td>\n",
       "      <td>0.0</td>\n",
       "      <td>0.0</td>\n",
       "      <td>0.0</td>\n",
       "      <td>0.0</td>\n",
       "      <td>0.0</td>\n",
       "      <td>0.0</td>\n",
       "    </tr>\n",
       "    <tr>\n",
       "      <th>1</th>\n",
       "      <td>Alderwood, Long Branch</td>\n",
       "      <td>2</td>\n",
       "      <td>M8W</td>\n",
       "      <td>Etobicoke</td>\n",
       "      <td>43.602414</td>\n",
       "      <td>-79.543484</td>\n",
       "      <td>0.0</td>\n",
       "      <td>0.0</td>\n",
       "      <td>0.0</td>\n",
       "      <td>0.0</td>\n",
       "      <td>...</td>\n",
       "      <td>0.0</td>\n",
       "      <td>0.0</td>\n",
       "      <td>0.0</td>\n",
       "      <td>0.0</td>\n",
       "      <td>0.0</td>\n",
       "      <td>0.0</td>\n",
       "      <td>0.0</td>\n",
       "      <td>0.0</td>\n",
       "      <td>0.0</td>\n",
       "      <td>0.0</td>\n",
       "    </tr>\n",
       "    <tr>\n",
       "      <th>2</th>\n",
       "      <td>Bathurst Manor, Wilson Heights, Downsview North</td>\n",
       "      <td>2</td>\n",
       "      <td>M3H</td>\n",
       "      <td>North York</td>\n",
       "      <td>43.754328</td>\n",
       "      <td>-79.442259</td>\n",
       "      <td>0.0</td>\n",
       "      <td>0.0</td>\n",
       "      <td>0.0</td>\n",
       "      <td>0.0</td>\n",
       "      <td>...</td>\n",
       "      <td>0.0</td>\n",
       "      <td>0.0</td>\n",
       "      <td>0.0</td>\n",
       "      <td>0.0</td>\n",
       "      <td>0.0</td>\n",
       "      <td>0.0</td>\n",
       "      <td>0.0</td>\n",
       "      <td>0.0</td>\n",
       "      <td>0.0</td>\n",
       "      <td>0.0</td>\n",
       "    </tr>\n",
       "    <tr>\n",
       "      <th>3</th>\n",
       "      <td>Bayview Village</td>\n",
       "      <td>2</td>\n",
       "      <td>M2K</td>\n",
       "      <td>North York</td>\n",
       "      <td>43.786947</td>\n",
       "      <td>-79.385975</td>\n",
       "      <td>0.0</td>\n",
       "      <td>0.0</td>\n",
       "      <td>0.0</td>\n",
       "      <td>0.0</td>\n",
       "      <td>...</td>\n",
       "      <td>0.0</td>\n",
       "      <td>0.0</td>\n",
       "      <td>0.0</td>\n",
       "      <td>0.0</td>\n",
       "      <td>0.0</td>\n",
       "      <td>0.0</td>\n",
       "      <td>0.0</td>\n",
       "      <td>0.0</td>\n",
       "      <td>0.0</td>\n",
       "      <td>0.0</td>\n",
       "    </tr>\n",
       "    <tr>\n",
       "      <th>4</th>\n",
       "      <td>Bedford Park, Lawrence Manor East</td>\n",
       "      <td>2</td>\n",
       "      <td>M5M</td>\n",
       "      <td>North York</td>\n",
       "      <td>43.733283</td>\n",
       "      <td>-79.419750</td>\n",
       "      <td>0.0</td>\n",
       "      <td>0.0</td>\n",
       "      <td>0.0</td>\n",
       "      <td>0.0</td>\n",
       "      <td>...</td>\n",
       "      <td>0.0</td>\n",
       "      <td>0.0</td>\n",
       "      <td>0.0</td>\n",
       "      <td>0.0</td>\n",
       "      <td>0.0</td>\n",
       "      <td>0.0</td>\n",
       "      <td>0.0</td>\n",
       "      <td>0.0</td>\n",
       "      <td>0.0</td>\n",
       "      <td>0.0</td>\n",
       "    </tr>\n",
       "  </tbody>\n",
       "</table>\n",
       "<p>5 rows × 282 columns</p>\n",
       "</div>"
      ],
      "text/plain": [
       "                                      Neighborhood  Label PostalCode  \\\n",
       "0                                        Agincourt      2        M1S   \n",
       "1                           Alderwood, Long Branch      2        M8W   \n",
       "2  Bathurst Manor, Wilson Heights, Downsview North      2        M3H   \n",
       "3                                  Bayview Village      2        M2K   \n",
       "4                Bedford Park, Lawrence Manor East      2        M5M   \n",
       "\n",
       "       Borough   Latitude  Longitude  Accessories Store  Afghan Restaurant  \\\n",
       "0  Scarborough  43.794200 -79.262029                0.0                0.0   \n",
       "1    Etobicoke  43.602414 -79.543484                0.0                0.0   \n",
       "2   North York  43.754328 -79.442259                0.0                0.0   \n",
       "3   North York  43.786947 -79.385975                0.0                0.0   \n",
       "4   North York  43.733283 -79.419750                0.0                0.0   \n",
       "\n",
       "   Airport  Airport Food Court  ...  Train Station  Turkish Restaurant  \\\n",
       "0      0.0                 0.0  ...            0.0                 0.0   \n",
       "1      0.0                 0.0  ...            0.0                 0.0   \n",
       "2      0.0                 0.0  ...            0.0                 0.0   \n",
       "3      0.0                 0.0  ...            0.0                 0.0   \n",
       "4      0.0                 0.0  ...            0.0                 0.0   \n",
       "\n",
       "   Vegetarian / Vegan Restaurant  Video Game Store  Vietnamese Restaurant  \\\n",
       "0                            0.0               0.0                    0.0   \n",
       "1                            0.0               0.0                    0.0   \n",
       "2                            0.0               0.0                    0.0   \n",
       "3                            0.0               0.0                    0.0   \n",
       "4                            0.0               0.0                    0.0   \n",
       "\n",
       "   Warehouse Store  Wine Bar  Wings Joint  Women's Store  Yoga Studio  \n",
       "0              0.0       0.0          0.0            0.0          0.0  \n",
       "1              0.0       0.0          0.0            0.0          0.0  \n",
       "2              0.0       0.0          0.0            0.0          0.0  \n",
       "3              0.0       0.0          0.0            0.0          0.0  \n",
       "4              0.0       0.0          0.0            0.0          0.0  \n",
       "\n",
       "[5 rows x 282 columns]"
      ]
     },
     "execution_count": 743,
     "metadata": {},
     "output_type": "execute_result"
    }
   ],
   "source": [
    "Clustered_neighborhoods.head()"
   ]
  },
  {
   "cell_type": "markdown",
   "metadata": {},
   "source": [
    "## 6. Visualise the clustered neighborhoods on the map"
   ]
  },
  {
   "cell_type": "code",
   "execution_count": 745,
   "metadata": {},
   "outputs": [
    {
     "data": {
      "text/html": [
       "<div style=\"width:100%;\"><div style=\"position:relative;width:100%;height:0;padding-bottom:60%;\"><span style=\"color:#565656\">Make this Notebook Trusted to load map: File -> Trust Notebook</span><iframe src=\"about:blank\" style=\"position:absolute;width:100%;height:100%;left:0;top:0;border:none !important;\" data-html=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 onload=\"this.contentDocument.open();this.contentDocument.write(atob(this.getAttribute('data-html')));this.contentDocument.close();\" allowfullscreen webkitallowfullscreen mozallowfullscreen></iframe></div></div>"
      ],
      "text/plain": [
       "<folium.folium.Map at 0x15ba5ff2f08>"
      ]
     },
     "execution_count": 745,
     "metadata": {},
     "output_type": "execute_result"
    }
   ],
   "source": [
    "Toronto_map = folium.Map(location=[43.6532, -79.3832], zoom_start=11)\n",
    "\n",
    "colors_array = cm.rainbow(np.linspace(0, 1,10))\n",
    "rainbow = [colors.rgb2hex(i) for i in colors_array]\n",
    "\n",
    "markers_colors = []\n",
    "for lat, lon, neigh, cluster in zip(Clustered_neighborhoods['Latitude'], Clustered_neighborhoods['Longitude'], Clustered_neighborhoods['Neighborhood'], Clustered_neighborhoods['Label']):\n",
    "    label = folium.Popup(str(neigh) + ' Cluster ' + str(cluster), parse_html=True)\n",
    "    folium.CircleMarker(\n",
    "        [lat, lon],\n",
    "        radius=5,\n",
    "        popup=label,\n",
    "        color=rainbow[cluster],\n",
    "        fill=True,\n",
    "        fill_color=rainbow[cluster],\n",
    "        fill_opacity=0.7).add_to(Toronto_map)\n",
    "\n",
    "\n",
    "\n",
    "Toronto_map\n"
   ]
  },
  {
   "cell_type": "code",
   "execution_count": null,
   "metadata": {},
   "outputs": [],
   "source": []
  },
  {
   "cell_type": "code",
   "execution_count": null,
   "metadata": {},
   "outputs": [],
   "source": []
  },
  {
   "cell_type": "code",
   "execution_count": null,
   "metadata": {},
   "outputs": [],
   "source": []
  }
 ],
 "metadata": {
  "kernelspec": {
   "display_name": "Python 3",
   "language": "python",
   "name": "python3"
  },
  "language_info": {
   "codemirror_mode": {
    "name": "ipython",
    "version": 3
   },
   "file_extension": ".py",
   "mimetype": "text/x-python",
   "name": "python",
   "nbconvert_exporter": "python",
   "pygments_lexer": "ipython3",
   "version": "3.7.6"
  }
 },
 "nbformat": 4,
 "nbformat_minor": 4
}
